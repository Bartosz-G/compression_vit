{
 "cells": [
  {
   "cell_type": "code",
   "metadata": {
    "collapsed": true,
    "pycharm": {
     "name": "#%%\n"
    },
    "ExecuteTime": {
     "end_time": "2024-05-17T16:33:10.943368Z",
     "start_time": "2024-05-17T16:33:09.662525Z"
    }
   },
   "source": [
    "import torch\n",
    "import numpy as np\n",
    "import os\n",
    "from torch import nn\n",
    "import torch.optim as optim\n",
    "from torch.utils.data import DataLoader, random_split\n",
    "from torchvision.datasets import CIFAR10\n",
    "from torchvision.transforms import Compose, ToTensor, Normalize\n",
    "from torchvision.models import resnet18\n",
    "\n",
    "from preprocessing.dataset import CIFAR10_custom \n",
    "from preprocessing.transforms import CompressedToTensor, ZigZagOrder, ChooseAC, FlattenZigZag, ConvertToFrequencyDomain, ConvertToYcbcr, Quantize, LUMINANCE_QUANTIZATION_MATRIX, CHROMINANCE_QUANTIZATION_MATRIX\n",
    "from model.init import init_truncated_normal, init_kaiming_normal, set_seed\n",
    "from model.vit import CompressedVisionTransformer, VisionTransformer\n",
    "from model.baseline import ResNet18, NeuralNet"
   ],
   "execution_count": 1,
   "outputs": []
  },
  {
   "cell_type": "code",
   "source": [
    "DOWNLAOD_PATH = os.path.join('data', 'cifar10')\n",
    "SEED = 42\n",
    "VALIDATION_SET = 0.1\n",
    "BATCH_SIZE = 128\n",
    "AC = 5"
   ],
   "metadata": {
    "collapsed": false,
    "pycharm": {
     "name": "#%%\n"
    },
    "ExecuteTime": {
     "end_time": "2024-05-17T16:33:10.959311Z",
     "start_time": "2024-05-17T16:33:10.954817Z"
    }
   },
   "execution_count": 2,
   "outputs": []
  },
  {
   "cell_type": "markdown",
   "source": [
    "# Loading in the data"
   ],
   "metadata": {
    "collapsed": false,
    "pycharm": {
     "name": "#%% md\n"
    }
   }
  },
  {
   "cell_type": "code",
   "source": [
    "quantization_matrices = [LUMINANCE_QUANTIZATION_MATRIX, CHROMINANCE_QUANTIZATION_MATRIX, CHROMINANCE_QUANTIZATION_MATRIX]\n",
    "\n",
    "vanilla_transform = Compose([\n",
    "    ToTensor()\n",
    "    # Returns pixels in range [0-1]\n",
    "])\n",
    "\n",
    "transform = Compose([\n",
    "    CompressedToTensor(), # 3x32x32\n",
    "    # Returns pixels in range [0-255]\n",
    "    ConvertToYcbcr(), # 3x32x32\n",
    "    # Returns pixels in range [0-1]\n",
    "    ConvertToFrequencyDomain(norm='ortho'), # 3x32x32\n",
    "    Quantize(quantization_matrices=quantization_matrices, alpha=1.0, floor=True), # 3x32x32\n",
    "    ZigZagOrder(), # 3x16x64\n",
    "    ChooseAC(AC), # 3x16x(AC+1)\n",
    "    FlattenZigZag() # 3x(16x(AC+1))\n",
    "])"
   ],
   "metadata": {
    "collapsed": false,
    "pycharm": {
     "name": "#%%\n"
    },
    "ExecuteTime": {
     "end_time": "2024-05-17T16:33:12.469108Z",
     "start_time": "2024-05-17T16:33:10.960810Z"
    }
   },
   "execution_count": 3,
   "outputs": []
  },
  {
   "metadata": {},
   "cell_type": "code",
   "execution_count": 19,
   "source": [
    "cifar = CIFAR10(root=DOWNLAOD_PATH, train=True, transform=transform, target_transform=None, download = False)\n",
    "cifar_test = CIFAR10(root=DOWNLAOD_PATH, train=False, transform=transform, target_transform=None, download = False)"
   ],
   "outputs": []
  },
  {
   "metadata": {},
   "cell_type": "code",
   "execution_count": 5,
   "source": [
    "with set_seed(SEED):\n",
    "    num_train = len(cifar)\n",
    "    num_val = int(0.1 * num_train)\n",
    "    num_train -= num_val\n",
    "\n",
    "    cifar_train, cifar_val = random_split(cifar, [num_train, num_val])"
   ],
   "outputs": []
  },
  {
   "cell_type": "markdown",
   "source": [
    "# Models"
   ],
   "metadata": {
    "collapsed": false,
    "pycharm": {
     "name": "#%% md\n"
    }
   }
  },
  {
   "cell_type": "code",
   "source": [
    "cvit = CompressedVisionTransformer(ac=AC,\n",
    "                        channels=3,\n",
    "                        patch_num=16,\n",
    "                        num_classes=10,\n",
    "                        d_model=248,\n",
    "                        nhead=8,\n",
    "                        dim_feedforward=1024,\n",
    "                        dropout=0.1,\n",
    "                        activation=nn.GELU(),\n",
    "                        ntransformers=4,\n",
    "                        layer_norm_eps=1e-5,\n",
    "                        norm_first=False,\n",
    "                        bias=True,\n",
    "                        learnable_positional=True)\n",
    "\n",
    "vit = VisionTransformer(in_channels=3, \n",
    "                        height=32,\n",
    "                        width=32,\n",
    "                        patch_size=4,\n",
    "                        num_classes=10,\n",
    "                        d_model=248,\n",
    "                        nhead=8,\n",
    "                        dim_feedforward=1024,\n",
    "                        dropout=0.1,\n",
    "                        activation=nn.GELU(),\n",
    "                        ntransformers=4,\n",
    "                        layer_norm_eps=1e-5,\n",
    "                        norm_first=False,\n",
    "                        bias=True,\n",
    "                        learnable_positional=True)\n",
    "\n",
    "\n",
    "\n",
    "with set_seed(SEED):\n",
    "    cvit.init_weights(init_truncated_normal)\n",
    "    vit.init_weights(init_truncated_normal)\n",
    "    \n",
    "cvit.pre_training()\n",
    "vit.pre_training()"
   ],
   "metadata": {
    "collapsed": false,
    "pycharm": {
     "name": "#%%\n"
    },
    "ExecuteTime": {
     "end_time": "2024-05-10T13:07:24.022156Z",
     "start_time": "2024-05-10T13:07:23.964785Z"
    }
   },
   "execution_count": 6,
   "outputs": []
  },
  {
   "cell_type": "code",
   "source": [
    "resnet18 = ResNet18(channels=3, num_classes=10)\n",
    "neural_net = NeuralNet(ac=AC,\n",
    "                       channels=3,\n",
    "                       patch_num=16,\n",
    "                       num_classes=10,\n",
    "                       hidden_size=4,\n",
    "                       dim_feedforward=1024,\n",
    "                       activation = nn.ReLU(),\n",
    "                       bias = True,\n",
    "                       layer_norm=False)\n",
    "\n",
    "with set_seed(SEED):\n",
    "    resnet18.init_weights(init_kaiming_normal)\n",
    "    resnet18.init_weights(init_truncated_normal)\n",
    "    neural_net.init_weights(init_truncated_normal)"
   ],
   "metadata": {
    "collapsed": false,
    "pycharm": {
     "name": "#%%\n"
    },
    "ExecuteTime": {
     "end_time": "2024-05-10T13:07:24.220370Z",
     "start_time": "2024-05-10T13:07:24.024469Z"
    }
   },
   "execution_count": 7,
   "outputs": []
  },
  {
   "cell_type": "markdown",
   "source": [
    "# CVIT Parameters"
   ],
   "metadata": {
    "collapsed": false,
    "pycharm": {
     "name": "#%% md\n"
    }
   }
  },
  {
   "metadata": {
    "ExecuteTime": {
     "end_time": "2024-05-10T13:07:45.410691Z",
     "start_time": "2024-05-10T13:07:45.381088Z"
    }
   },
   "cell_type": "code",
   "source": [
    "cvit_checkpoint = torch.load('checkpoints/cvit5d248w8h30e.pth')\n",
    "cvit.load_state_dict(cvit_checkpoint)"
   ],
   "execution_count": 8,
   "outputs": []
  },
  {
   "metadata": {
    "ExecuteTime": {
     "end_time": "2024-05-10T14:13:25.305933Z",
     "start_time": "2024-05-10T14:13:25.282975Z"
    }
   },
   "cell_type": "code",
   "source": [
    "criterion = nn.CrossEntropyLoss()\n",
    "lr = 1e-4\n",
    "num_epochs = 10\n",
    "batch_size = 128\n",
    "weight_decay = 0\n",
    "checkpoint_every_th_epoch = None\n",
    "cvit_optimizer = optim.Adam(cvit.parameters(), lr=lr, weight_decay=weight_decay)\n",
    "\n",
    "train_compressed = DataLoader(cifar_compressed_train, batch_size=batch_size, shuffle=True)\n",
    "val_compressed = DataLoader(cifar_compressed_val, batch_size=batch_size, shuffle=True)\n",
    "test_compressed = DataLoader(cifar_compressed_test, batch_size=len(cifar_compressed_test), shuffle=False)"
   ],
   "execution_count": 12,
   "outputs": []
  },
  {
   "cell_type": "code",
   "source": [
    "for epoch in range(num_epochs):\n",
    "    # Training Phase\n",
    "    cvit.train()\n",
    "    train_loss = 0.0\n",
    "    for images, labels in train_compressed:\n",
    "        images, labels = images.to(torch.float32), labels\n",
    "\n",
    "        cvit_optimizer.zero_grad()\n",
    "\n",
    "        outputs = cvit(images)\n",
    "        loss = criterion(outputs, labels)\n",
    "        loss.backward()\n",
    "        cvit_optimizer.step()\n",
    "\n",
    "        train_loss += loss.item() * images.size(0)\n",
    "\n",
    "    train_loss /= len(cifar_compressed_train)\n",
    "\n",
    "    # Validation Phase\n",
    "    cvit.eval()\n",
    "    val_loss = 0.0\n",
    "    correct = 0\n",
    "    total = 0\n",
    "    with torch.no_grad():\n",
    "        for images, labels in val_compressed:\n",
    "            images, labels = images.to(torch.float32), labels\n",
    "\n",
    "            outputs = cvit(images)\n",
    "            loss = criterion(outputs, labels)\n",
    "\n",
    "            val_loss += loss.item() * images.size(0)\n",
    "            _, predicted = torch.max(outputs.data, 1)\n",
    "            total += labels.size(0)\n",
    "            correct += (predicted == labels).sum().item()\n",
    "\n",
    "    val_loss /= len(cifar_compressed_val)\n",
    "    val_accuracy = correct / total\n",
    "\n",
    "    print(f'Epoch {epoch+1}/{num_epochs}, Train Loss: {train_loss:.4f}, Val Loss: {val_loss:.4f}, Val Accuracy: {val_accuracy:.4f}')"
   ],
   "metadata": {
    "collapsed": false,
    "pycharm": {
     "name": "#%%\n"
    },
    "ExecuteTime": {
     "end_time": "2024-05-10T14:28:37.699967Z",
     "start_time": "2024-05-10T14:13:25.898417Z"
    }
   },
   "execution_count": 13,
   "outputs": []
  },
  {
   "metadata": {
    "ExecuteTime": {
     "end_time": "2024-05-10T14:11:53.804816Z",
     "start_time": "2024-05-10T14:11:53.723326Z"
    }
   },
   "cell_type": "code",
   "source": "torch.save(cvit.state_dict(), 'checkpoints/cvit5d248w8h60e.pth')",
   "execution_count": 11,
   "outputs": []
  },
  {
   "metadata": {},
   "cell_type": "markdown",
   "source": "## NN on compressed training"
  },
  {
   "metadata": {
    "ExecuteTime": {
     "end_time": "2024-05-10T08:45:52.169390Z",
     "start_time": "2024-05-10T08:45:52.082040Z"
    }
   },
   "cell_type": "code",
   "source": [
    "criterion = nn.CrossEntropyLoss()\n",
    "lr = 1e-3\n",
    "num_epochs = 30\n",
    "batch_size = 128\n",
    "weight_decay = 0\n",
    "checkpoint_every_th_epoch = None\n",
    "nn_optimizer = optim.Adam(neural_net.parameters(), lr=lr, weight_decay=weight_decay)\n",
    "\n",
    "train_compressed = DataLoader(cifar_compressed_train, batch_size=batch_size, shuffle=True)\n",
    "val_compressed = DataLoader(cifar_compressed_val, batch_size=batch_size, shuffle=True)\n",
    "test_compressed = DataLoader(cifar_compressed_test, batch_size=len(cifar_compressed_test), shuffle=False)"
   ],
   "execution_count": 8,
   "outputs": []
  },
  {
   "metadata": {
    "ExecuteTime": {
     "end_time": "2024-05-10T08:51:45.556601Z",
     "start_time": "2024-05-10T08:45:52.376001Z"
    }
   },
   "cell_type": "code",
   "source": [
    "for epoch in range(num_epochs):\n",
    "    # Training Phase\n",
    "    neural_net.train()\n",
    "    train_loss = 0.0\n",
    "    for images, labels in train_compressed:\n",
    "        images, labels = images.to(torch.float32), labels\n",
    "\n",
    "        nn_optimizer.zero_grad()\n",
    "\n",
    "        outputs = neural_net(images)\n",
    "        loss = criterion(outputs, labels)\n",
    "        loss.backward()\n",
    "        nn_optimizer.step()\n",
    "\n",
    "        train_loss += loss.item() * images.size(0)\n",
    "\n",
    "    train_loss /= len(cifar_compressed_train)\n",
    "\n",
    "    # Validation Phase\n",
    "    neural_net.eval()\n",
    "    val_loss = 0.0\n",
    "    correct = 0\n",
    "    total = 0\n",
    "    with torch.no_grad():\n",
    "        for images, labels in val_compressed:\n",
    "            images, labels = images.to(torch.float32), labels\n",
    "\n",
    "            outputs = neural_net(images)\n",
    "            loss = criterion(outputs, labels)\n",
    "\n",
    "            val_loss += loss.item() * images.size(0)\n",
    "            _, predicted = torch.max(outputs.data, 1)\n",
    "            total += labels.size(0)\n",
    "            correct += (predicted == labels).sum().item()\n",
    "\n",
    "    val_loss /= len(cifar_compressed_val)\n",
    "    val_accuracy = correct / total\n",
    "\n",
    "    print(f'Epoch {epoch+1}/{num_epochs}, Train Loss: {train_loss:.4f}, Val Loss: {val_loss:.4f}, Val Accuracy: {val_accuracy:.4f}')"
   ],
   "execution_count": 9,
   "outputs": []
  },
  {
   "metadata": {
    "ExecuteTime": {
     "end_time": "2024-05-10T09:42:21.983560Z",
     "start_time": "2024-05-10T09:42:21.903324Z"
    }
   },
   "cell_type": "code",
   "source": "torch.save(neural_net.state_dict(), 'checkpoints/nn5d1024w30e.pth')",
   "execution_count": 10,
   "outputs": []
  },
  {
   "cell_type": "markdown",
   "source": [
    "# ResNet18 training"
   ],
   "metadata": {
    "collapsed": false,
    "pycharm": {
     "name": "#%% md\n"
    }
   }
  },
  {
   "cell_type": "code",
   "execution_count": 43,
   "source": [
    "criterion = nn.CrossEntropyLoss()\n",
    "lr = 1e-3\n",
    "num_epochs = 30\n",
    "batch_size = 128\n",
    "weight_decay = 0\n",
    "checkpoint_every_th_epoch = None\n",
    "res_optimizer = optim.Adam(resnet18.parameters(), lr=lr, weight_decay=weight_decay)\n",
    "\n",
    "train= DataLoader(cifar_train, batch_size=batch_size, shuffle=True)\n",
    "val = DataLoader(cifar_val, batch_size=batch_size, shuffle=True)\n",
    "test = DataLoader(cifar_test, batch_size=len(cifar_test), shuffle=False)"
   ],
   "metadata": {
    "collapsed": false,
    "pycharm": {
     "name": "#%%\n"
    }
   },
   "outputs": []
  },
  {
   "cell_type": "code",
   "execution_count": 44,
   "source": [
    "for epoch in range(num_epochs):\n",
    "    # Training Phase\n",
    "    resnet18.train()\n",
    "    train_loss = 0.0\n",
    "    for images, labels in train:\n",
    "        images, labels = images, labels\n",
    "\n",
    "        res_optimizer.zero_grad()\n",
    "\n",
    "        outputs = resnet18(images)\n",
    "        loss = criterion(outputs, labels)\n",
    "        loss.backward()\n",
    "        res_optimizer.step()\n",
    "\n",
    "        train_loss += loss.item() * images.size(0)\n",
    "\n",
    "    train_loss /= len(cifar_train)\n",
    "\n",
    "    # Validation Phase\n",
    "    resnet18.eval()\n",
    "    val_loss = 0.0\n",
    "    correct = 0\n",
    "    total = 0\n",
    "    with torch.no_grad():\n",
    "        for images, labels in val:\n",
    "            images, labels = images, labels\n",
    "\n",
    "            outputs = resnet18(images)\n",
    "            loss = criterion(outputs, labels)\n",
    "\n",
    "            val_loss += loss.item() * images.size(0)\n",
    "            _, predicted = torch.max(outputs.data, 1)\n",
    "            total += labels.size(0)\n",
    "            correct += (predicted == labels).sum().item()\n",
    "\n",
    "    val_loss /= len(cifar_val)\n",
    "    val_accuracy = correct / total\n",
    "\n",
    "    print(f'Epoch {epoch+1}/{num_epochs}, Train Loss: {train_loss:.4f}, Val Loss: {val_loss:.4f}, Val Accuracy: {val_accuracy:.4f}')"
   ],
   "metadata": {
    "collapsed": false,
    "pycharm": {
     "name": "#%%\n"
    }
   },
   "outputs": []
  },
  {
   "cell_type": "code",
   "execution_count": null,
   "source": [],
   "metadata": {
    "collapsed": false,
    "pycharm": {
     "name": "#%%\n"
    }
   },
   "outputs": []
  }
 ],
 "metadata": {
  "kernelspec": {
   "display_name": "Python 3",
   "language": "python",
   "name": "python3"
  },
  "language_info": {
   "codemirror_mode": {
    "name": "ipython",
    "version": 2
   },
   "file_extension": ".py",
   "mimetype": "text/x-python",
   "name": "python",
   "nbconvert_exporter": "python",
   "pygments_lexer": "ipython2",
   "version": "2.7.6"
  }
 },
 "nbformat": 4,
 "nbformat_minor": 0
}
