{
 "cells": [
  {
   "cell_type": "code",
   "id": "initial_id",
   "metadata": {
    "collapsed": true,
    "ExecuteTime": {
     "end_time": "2024-05-29T19:21:09.811287Z",
     "start_time": "2024-05-29T19:21:07.034948Z"
    }
   },
   "source": [
    "import os\n",
    "import json\n",
    "from tqdm import tqdm\n",
    "from scipy.fft import dctn, idctn\n",
    "\n",
    "import mlflow\n",
    "import mlflow.pytorch\n",
    "\n",
    "import numpy as np\n",
    "import torch\n",
    "from torch import nn\n",
    "import torch.optim as optim\n",
    "from torch.utils.data import DataLoader, random_split\n",
    "from torchvision.datasets import CIFAR10\n",
    "from torchvision.transforms import Compose, ToTensor, Normalize\n",
    "from torchvision.models import resnet18\n",
    "from torchvision.models.vision_transformer import VisionTransformer\n",
    "\n",
    "\n",
    "from preprocessing.transforms import CompressedToTensor, ZigZagOrder, ChooseAC, FlattenZigZag, ConvertToFrequencyDomain, ConvertToYcbcr, Quantize, LUMINANCE_QUANTIZATION_MATRIX, CHROMINANCE_QUANTIZATION_MATRIX\n",
    "from model.init import init_kaiming_normal, set_seed, resume_from_checkpoint\n",
    "from model.vit import CompressedVisionTransformer"
   ],
   "outputs": [],
   "execution_count": 1
  },
  {
   "metadata": {},
   "cell_type": "markdown",
   "source": "# 1. Training parameters init:",
   "id": "bff5ada040bed9b5"
  },
  {
   "metadata": {},
   "cell_type": "markdown",
   "source": "## 1.1 Variables init",
   "id": "154a960541e4807"
  },
  {
   "metadata": {
    "ExecuteTime": {
     "end_time": "2024-05-29T19:21:09.814754Z",
     "start_time": "2024-05-29T19:21:09.812444Z"
    }
   },
   "cell_type": "code",
   "source": [
    "DOWNLAOD_PATH = os.path.join('data', 'cifar10')\n",
    "SEED = 42\n",
    "VALIDATION_SET = 0.1\n",
    "BATCH_SIZE = 128\n",
    "AC = 5\n",
    "DEVICE = 'cuda' if torch.cuda.is_available() else 'cpu'"
   ],
   "id": "ad18146e091b5c14",
   "outputs": [],
   "execution_count": 2
  },
  {
   "metadata": {},
   "cell_type": "markdown",
   "source": "## 1.2 Preprocessing steps:",
   "id": "973461dcfe47040d"
  },
  {
   "metadata": {
    "ExecuteTime": {
     "end_time": "2024-05-29T19:21:09.817768Z",
     "start_time": "2024-05-29T19:21:09.815533Z"
    }
   },
   "cell_type": "code",
   "source": [
    "quantization_matrices = [LUMINANCE_QUANTIZATION_MATRIX, CHROMINANCE_QUANTIZATION_MATRIX, CHROMINANCE_QUANTIZATION_MATRIX]\n",
    "\n",
    "# if_you_want_to_get_an_RGB_image = Compose([\n",
    "#     ToTensor()\n",
    "#     # Returns pixels in range [0-1]\n",
    "# ])\n",
    "# \n",
    "# \n",
    "transform = Compose([\n",
    "    CompressedToTensor(), # 3x32x32\n",
    "    # Returns pixels in range [0-255]\n",
    "    ConvertToYcbcr(), # 3x32x32\n",
    "    # Returns pixels in range [0-1]\n",
    "    ConvertToFrequencyDomain(norm='ortho'), # 3x32x32\n",
    "    Quantize(quantization_matrices=quantization_matrices, alpha=1.0, floor=True), # 3x32x32\n",
    "    ZigZagOrder(), # 3x16x64\n",
    "    ChooseAC(AC), # 3x16x(AC+1)\n",
    "    FlattenZigZag() # 16x(3x(AC+1))\n",
    "])\n",
    "\n",
    "# transform = Compose([ToTensor()])"
   ],
   "id": "ed6eac04e65c0b13",
   "outputs": [],
   "execution_count": 3
  },
  {
   "metadata": {},
   "cell_type": "markdown",
   "source": "## 1.3 Model init:",
   "id": "861c7f761119c7dd"
  },
  {
   "metadata": {
    "ExecuteTime": {
     "end_time": "2024-05-29T19:21:09.846075Z",
     "start_time": "2024-05-29T19:21:09.818394Z"
    }
   },
   "cell_type": "code",
   "source": [
    "MODEL_PARAMETERS = {\n",
    "    'image_size': 32,\n",
    "    'patch_size': AC, # for CompressedVisionTransformer set as AC, otherwise set to 8\n",
    "    'num_layers': 4,\n",
    "    'num_heads': 8,\n",
    "    'hidden_dim': 248,\n",
    "    'mlp_dim': 1024,\n",
    "    'dropout': 0.1,\n",
    "    'attention_dropout': 0.1,\n",
    "    'num_classes':10\n",
    "}\n",
    "\n",
    "\n",
    "with set_seed(SEED): # Initialization of parameters now happens at __init__\n",
    "    # model = VisionTransformer(**MODEL_PARAMETERS)\n",
    "    model = CompressedVisionTransformer(**MODEL_PARAMETERS).to(DEVICE)"
   ],
   "id": "2048ca28a7194cbe",
   "outputs": [],
   "execution_count": 4
  },
  {
   "metadata": {},
   "cell_type": "markdown",
   "source": "## 1.4 Training init:",
   "id": "45588bc6d648794a"
  },
  {
   "metadata": {
    "ExecuteTime": {
     "end_time": "2024-05-29T19:21:09.850611Z",
     "start_time": "2024-05-29T19:21:09.847704Z"
    }
   },
   "cell_type": "code",
   "source": [
    "experiment_name = f'bart_vit_full_frequency'\n",
    "criterion = nn.CrossEntropyLoss()\n",
    "lr = 1e-4\n",
    "num_epochs = 70\n",
    "weight_decay = 0\n",
    "optimizer = optim.Adam(model.parameters(), lr=lr, weight_decay=weight_decay)\n",
    "\n",
    "checkpoint_every_nth_epoch = 5 # Set None for no checkpointing\n",
    "start_epoch = 0\n",
    "checkpoint_folder = 'checkpoints'\n",
    "\n",
    "os.makedirs(checkpoint_folder, exist_ok=True)\n",
    "checkpoint_path = os.path.join(checkpoint_folder, experiment_name)"
   ],
   "id": "3b54cdfdf4e32d5",
   "outputs": [],
   "execution_count": 5
  },
  {
   "metadata": {},
   "cell_type": "markdown",
   "source": "## 1.5 Resuming from a checkpoint",
   "id": "f7e0953a818707da"
  },
  {
   "metadata": {
    "ExecuteTime": {
     "end_time": "2024-05-29T19:21:09.852759Z",
     "start_time": "2024-05-29T19:21:09.851367Z"
    }
   },
   "cell_type": "code",
   "source": [
    "# load_checkpoint_path = 'change to .pth file path'\n",
    "# model, optimizer, start_epoch = resume_from_checkpoint(checkpoint_path=load_checkpoint_path, model=model, optimizer=optimizer)"
   ],
   "id": "72f949c0e13465d4",
   "outputs": [],
   "execution_count": 6
  },
  {
   "metadata": {},
   "cell_type": "markdown",
   "source": "# 1.6 Collecting all parameters for logging:",
   "id": "f64f2dd7fe41130"
  },
  {
   "metadata": {
    "ExecuteTime": {
     "end_time": "2024-05-29T19:21:09.855650Z",
     "start_time": "2024-05-29T19:21:09.853579Z"
    }
   },
   "cell_type": "code",
   "source": [
    "PREPROCESSING_PARAMETERS = {\n",
    "    f'step_{i}': type(t).__name__ for i, t in enumerate(transform.transforms)\n",
    "}\n",
    "\n",
    "TRAINING_PARAMETERS = {\n",
    "    \"criterion\":type(criterion).__name__,\n",
    "    \"optimizer_type\": type(optimizer).__name__,\n",
    "    \"seed\":SEED,\n",
    "    \"batch_size\":BATCH_SIZE,\n",
    "    \"validation\":VALIDATION_SET,\n",
    "    **optimizer.defaults\n",
    "}\n",
    "\n",
    "MODEL_PARAMETERS = {\n",
    "    \"model\": type(model).__name__,\n",
    "    **MODEL_PARAMETERS\n",
    "}"
   ],
   "id": "c95eb4dc9b5238bc",
   "outputs": [],
   "execution_count": 7
  },
  {
   "metadata": {},
   "cell_type": "markdown",
   "source": "# 2. Extract, Transform and Load",
   "id": "bac2f2c9f25102e5"
  },
  {
   "metadata": {
    "ExecuteTime": {
     "end_time": "2024-05-29T19:21:10.603016Z",
     "start_time": "2024-05-29T19:21:09.856432Z"
    }
   },
   "cell_type": "code",
   "source": [
    "cifar = CIFAR10(root=DOWNLAOD_PATH, train=True, transform=transform, target_transform=None, download = False)\n",
    "cifar_test = CIFAR10(root=DOWNLAOD_PATH, train=False, transform=transform, target_transform=None, download = False)"
   ],
   "id": "f5f4bac3251a44f6",
   "outputs": [],
   "execution_count": 8
  },
  {
   "metadata": {
    "ExecuteTime": {
     "end_time": "2024-05-29T19:21:10.721090Z",
     "start_time": "2024-05-29T19:21:10.712866Z"
    }
   },
   "cell_type": "code",
   "source": [
    "with set_seed(SEED): # For reproducible results run any random operations with set_seed()\n",
    "    num_train = len(cifar)\n",
    "    num_val = int(0.1 * num_train)\n",
    "    num_train -= num_val\n",
    "\n",
    "    cifar_train, cifar_val = random_split(cifar, [num_train, num_val])"
   ],
   "id": "3dc0d39523bc9225",
   "outputs": [],
   "execution_count": 9
  },
  {
   "metadata": {
    "ExecuteTime": {
     "end_time": "2024-05-29T19:21:10.915036Z",
     "start_time": "2024-05-29T19:21:10.912298Z"
    }
   },
   "cell_type": "code",
   "source": [
    "train = DataLoader(cifar_train, batch_size=BATCH_SIZE, shuffle=True)\n",
    "val = DataLoader(cifar_val, batch_size=BATCH_SIZE, shuffle=True)\n",
    "test = DataLoader(cifar_test, batch_size=cifar_test.__len__(), shuffle=False)"
   ],
   "id": "7c00df673219726e",
   "outputs": [],
   "execution_count": 10
  },
  {
   "metadata": {},
   "cell_type": "markdown",
   "source": "# Parameter tracking for MLFlow",
   "id": "a659e00c190aa597"
  },
  {
   "metadata": {},
   "cell_type": "code",
   "source": [
    "mlflow.set_experiment(experiment_name)\n",
    "with mlflow.start_run():\n",
    "    mlflow.log_param(\"preprocessing_steps\", json.dumps(PREPROCESSING_PARAMETERS))\n",
    "    mlflow.log_param(\"training_parameters\", json.dumps(TRAINING_PARAMETERS))\n",
    "    mlflow.log_param(\"model_parameters\", json.dumps(MODEL_PARAMETERS))\n",
    "\n",
    "\n",
    "    with set_seed(SEED):\n",
    "        for epoch in range(start_epoch, num_epochs):\n",
    "            model.train()\n",
    "            train_loss = 0.0\n",
    "            for images, labels in tqdm(train):\n",
    "                images, labels = images.to(torch.float32).to(DEVICE), labels.to(DEVICE)\n",
    "        \n",
    "                optimizer.zero_grad()\n",
    "        \n",
    "                outputs = model(images)\n",
    "                loss = criterion(outputs, labels)\n",
    "                loss.backward()\n",
    "                optimizer.step()\n",
    "        \n",
    "                train_loss += loss.detach().cpu().item() * images.size(0)\n",
    "        \n",
    "            train_loss /= len(train)\n",
    "\n",
    "            mlflow.log_metric(\"train_loss\", train_loss, step=epoch)\n",
    "        \n",
    "            model.eval()\n",
    "            val_loss = 0.0\n",
    "            correct = 0\n",
    "            total = 0\n",
    "            with torch.no_grad():\n",
    "                for images, labels in val:\n",
    "                    images, labels = images.to(torch.float32).to(DEVICE), labels.to(DEVICE)\n",
    "        \n",
    "                    outputs = model(images)\n",
    "                    loss = criterion(outputs, labels)\n",
    "        \n",
    "                    val_loss += loss.item() * images.size(0)\n",
    "                    _, predicted = torch.max(outputs.data, 1)\n",
    "                    total += labels.size(0)\n",
    "                    correct += (predicted == labels).sum().item()\n",
    "                    \n",
    "                    \n",
    "        \n",
    "            val_loss /= len(val)\n",
    "            val_accuracy = correct / total\n",
    "            mlflow.log_metric(\"val_loss\", val_loss, step=epoch)\n",
    "            mlflow.log_metric(\"val_accuracy\", val_accuracy, step=epoch)\n",
    "        \n",
    "            print(f'Epoch {epoch+1}/{num_epochs}, Train Loss: {train_loss:.4f}, Val Loss: {val_loss:.4f}, Val Accuracy: {val_accuracy:.4f}')\n",
    "            \n",
    "            if checkpoint_every_nth_epoch:\n",
    "                if (epoch + 1) % checkpoint_every_nth_epoch == 0:\n",
    "                    save_path = f'{checkpoint_path}_epoch_{epoch + 1}.pth'\n",
    "                    torch.save({\n",
    "                        'epoch': epoch,\n",
    "                        'model_state_dict': model.state_dict(),\n",
    "                        'optimizer_state_dict': optimizer.state_dict(),\n",
    "                    }, save_path)\n",
    "                    print(f'Checkpoint saved to {save_path}')\n",
    "                    mlflow.log_artifact(save_path) \n",
    "        else:\n",
    "            save_path = f'{checkpoint_path}_final.pth'\n",
    "            torch.save({\n",
    "                'epoch': epoch,\n",
    "                'model_state_dict': model.state_dict(),\n",
    "                'optimizer_state_dict': optimizer.state_dict(),\n",
    "            }, save_path)\n",
    "            mlflow.log_artifact(save_path)\n",
    "            pass\n",
    "            #TODO: Add more metrics"
   ],
   "id": "d253adb5e9e5465c",
   "outputs": [],
   "execution_count": null
  }
 ],
 "metadata": {
  "kernelspec": {
   "display_name": "Python 3",
   "language": "python",
   "name": "python3"
  },
  "language_info": {
   "codemirror_mode": {
    "name": "ipython",
    "version": 2
   },
   "file_extension": ".py",
   "mimetype": "text/x-python",
   "name": "python",
   "nbconvert_exporter": "python",
   "pygments_lexer": "ipython2",
   "version": "2.7.6"
  }
 },
 "nbformat": 4,
 "nbformat_minor": 5
}
