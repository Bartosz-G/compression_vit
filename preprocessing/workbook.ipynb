{
 "cells": [
  {
   "cell_type": "code",
   "execution_count": 70,
   "metadata": {
    "collapsed": true,
    "pycharm": {
     "name": "#%%\n"
    }
   },
   "outputs": [],
   "source": [
    "import torch\n",
    "import numpy as np\n",
    "from torchvision.datasets import CIFAR10\n",
    "from torch.utils.data import DataLoader\n",
    "import torchvision.transforms as transforms\n",
    "import os\n",
    "from scipy.fft import dctn, idctn\n",
    "\n",
    "import matplotlib.pyplot as plt\n",
    "torch.set_printoptions(threshold=10_000)"
   ]
  },
  {
   "cell_type": "code",
   "execution_count": 71,
   "outputs": [],
   "source": [
    "class CIFAR10_custom(CIFAR10):\n",
    "    def __init__(self,*args, **kwargs) -> None:\n",
    "        super(CIFAR10_custom, self).__init__(*args, **kwargs)\n",
    "\n",
    "    def to_ycbcr(self, in_place = False) -> None:\n",
    "        r\"\"\"Convert entire dataset from RGB to YCbCr.\n",
    "        \"\"\"\n",
    "        data = self.data.transpose((0, 3, 1, 2))  # convert to CHW\n",
    "\n",
    "        r = data[..., 0, :, :]\n",
    "        g = data[..., 1, :, :]\n",
    "        b = data[..., 2, :, :]\n",
    "\n",
    "        y = 0.299 * r + 0.587 * g + 0.114 * b\n",
    "        cb = -0.168736 * r - 0.331264 * g + 0.5 * b + 128\n",
    "        cr = 0.5 * r - 0.418688 * g - 0.081312 * b + 128\n",
    "\n",
    "        if in_place:\n",
    "            self.data = np.stack((y, cb, cr), axis=-3)\n",
    "        else:\n",
    "            return np.stack((y, cb, cr), axis=-3)\n"
   ],
   "metadata": {
    "collapsed": false,
    "pycharm": {
     "name": "#%%\n"
    }
   }
  },
  {
   "cell_type": "code",
   "execution_count": 72,
   "outputs": [],
   "source": [
    "def apply_across_batch(array, func, *args, **kwargs):\n",
    "    # Get the shape of the input array\n",
    "    batch_size, channels, H, W = array.shape\n",
    "\n",
    "    # Initialize an output array of the same shape as the input\n",
    "    output = np.zeros_like(array)\n",
    "\n",
    "    # Iterate over the batch and channel dimensions\n",
    "    for i in range(batch_size):\n",
    "        output[i, :, :, :] = func(array[i, :, :, :], *args, **kwargs)\n",
    "\n",
    "    return output"
   ],
   "metadata": {
    "collapsed": false,
    "pycharm": {
     "name": "#%%\n"
    }
   }
  },
  {
   "cell_type": "code",
   "execution_count": 73,
   "outputs": [],
   "source": [
    "def blockwise_dct(image: np.array, block_size: tuple[int, int]=(8, 8)):\n",
    "    height, width = image.shape\n",
    "    block_height, block_width = block_size\n",
    "\n",
    "    dct_blocks = np.zeros_like(image, dtype=np.float32)\n",
    "\n",
    "\n",
    "    for i in range(0, height, block_height):\n",
    "        for j in range(0, width, block_width):\n",
    "            # Extract the block from the image\n",
    "            block = image[i:i+block_height, j:j+block_width]\n",
    "\n",
    "            # Apply the 2D DCT to the block\n",
    "            dct_block = dctn(block, norm='ortho')\n",
    "\n",
    "            # Store the DCT coefficients\n",
    "            dct_blocks[i:i+block_height, j:j+block_width] = dct_block\n",
    "\n",
    "    return dct_blocks"
   ],
   "metadata": {
    "collapsed": false,
    "pycharm": {
     "name": "#%%\n"
    }
   }
  },
  {
   "cell_type": "code",
   "execution_count": 74,
   "outputs": [],
   "source": [
    "def blockwise_quantize(dct: np.ndarray, mode='l', alpha: int = 1, block_size=(8, 8)) -> np.ndarray:\n",
    "    luminance_quantization_matrix = np.array([\n",
    "        [16, 11, 10, 16, 24, 40, 51, 61],\n",
    "        [12, 12, 14, 19, 26, 58, 60, 55],\n",
    "        [14, 13, 16, 24, 40, 57, 69, 56],\n",
    "        [14, 17, 22, 29, 51, 87, 80, 62],\n",
    "        [18, 22, 37, 56, 68, 109, 103, 77],\n",
    "        [24, 35, 55, 64, 81, 104, 113, 92],\n",
    "        [49, 64, 78, 87, 103, 121, 120, 101],\n",
    "        [72, 92, 95, 98, 112, 100, 103, 99]\n",
    "    ])\n",
    "\n",
    "    chrominance_quantization_matrix = np.array([\n",
    "        [17, 18, 24, 47, 99, 99, 99, 99],\n",
    "        [18, 21, 26, 66, 99, 99, 99, 99],\n",
    "        [24, 26, 56, 99, 99, 99, 99, 99],\n",
    "        [47, 66, 99, 99, 99, 99, 99, 99],\n",
    "        [99, 99, 99, 99, 99, 99, 99, 99],\n",
    "        [99, 99, 99, 99, 99, 99, 99, 99],\n",
    "        [99, 99, 99, 99, 99, 99, 99, 99],\n",
    "        [99, 99, 99, 99, 99, 99, 99, 99]\n",
    "    ])\n",
    "\n",
    "    # Choose the appropriate quantization matrix based on the mode\n",
    "    quantization_matrix = luminance_quantization_matrix if mode == 'l' else chrominance_quantization_matrix\n",
    "\n",
    "    # Adjust the quantization matrix by the alpha multiplier\n",
    "    quantization_matrix = quantization_matrix * alpha\n",
    "\n",
    "    # Ensure the dimensions of the DCT input are divisible by the block size\n",
    "    height, width = dct.shape\n",
    "    block_height_num, block_width_num = height // block_size[0], width // block_size[1]\n",
    "\n",
    "    # Tile the quantization matrix to cover the whole DCT matrix\n",
    "    quantization_matrix_tiled = np.tile(quantization_matrix, (block_height_num, block_width_num))\n",
    "\n",
    "    # Perform the quantization\n",
    "    quantized_dct = np.round(dct / quantization_matrix_tiled).astype(np.int8)\n",
    "\n",
    "    return quantized_dct"
   ],
   "metadata": {
    "collapsed": false,
    "pycharm": {
     "name": "#%%\n"
    }
   }
  },
  {
   "cell_type": "code",
   "execution_count": 86,
   "outputs": [],
   "source": [
    "def compress_quantise_across_channels(image: np.ndarray, alpha: int = 1, block_size=(8, 8), *args, **kwargs):\n",
    "    channels, height, width = image.shape\n",
    "\n",
    "    assert channels == 3, f'channels must be 3 YCbCr but got {channels} instead'\n",
    "\n",
    "\n",
    "    y = blockwise_dct(image[0, :, :], block_size, *args, **kwargs)\n",
    "    cb = blockwise_dct(image[1, :, :], block_size, *args, **kwargs)\n",
    "    cr = blockwise_dct(image[2, :, :],block_size, *args, **kwargs)\n",
    "\n",
    "    y = blockwise_quantize(y, 'l', alpha, block_size, *args, **kwargs)\n",
    "    cb = blockwise_quantize(y, 'c', alpha, block_size, *args, **kwargs)\n",
    "    cr = blockwise_quantize(y, 'c', alpha, block_size, *args, **kwargs)\n",
    "\n",
    "    print(f'y.shape {y.shape}')\n",
    "\n",
    "    output = np.stack((y, cb, cr), axis=-3)\n",
    "    return output"
   ],
   "metadata": {
    "collapsed": false,
    "pycharm": {
     "name": "#%%\n"
    }
   }
  },
  {
   "cell_type": "code",
   "execution_count": 87,
   "outputs": [
    {
     "name": "stdout",
     "output_type": "stream",
     "text": [
      "y.shape (32, 32)\n"
     ]
    },
    {
     "data": {
      "text/plain": "(3, 32, 32)"
     },
     "execution_count": 87,
     "metadata": {},
     "output_type": "execute_result"
    }
   ],
   "source": [
    "array = np.random.rand(3, 32, 32)\n",
    "compress_quantise_across_channels(array).shape"
   ],
   "metadata": {
    "collapsed": false,
    "pycharm": {
     "name": "#%%\n"
    }
   }
  }
 ],
 "metadata": {
  "kernelspec": {
   "display_name": "Python 3",
   "language": "python",
   "name": "python3"
  },
  "language_info": {
   "codemirror_mode": {
    "name": "ipython",
    "version": 2
   },
   "file_extension": ".py",
   "mimetype": "text/x-python",
   "name": "python",
   "nbconvert_exporter": "python",
   "pygments_lexer": "ipython2",
   "version": "2.7.6"
  }
 },
 "nbformat": 4,
 "nbformat_minor": 0
}