{
 "cells": [
  {
   "cell_type": "code",
   "execution_count": 1,
   "metadata": {
    "collapsed": true,
    "pycharm": {
     "name": "#%%\n"
    }
   },
   "outputs": [],
   "source": [
    "import torch\n",
    "import numpy as np\n",
    "from torchvision.datasets import CIFAR10\n",
    "from torch.utils.data import DataLoader\n",
    "import torchvision.transforms as transforms\n",
    "import os\n",
    "from scipy.fft import dctn, idctn\n",
    "\n",
    "import matplotlib.pyplot as plt\n",
    "# torch.set_printoptions(threshold=10_000)\n",
    "# np.set_printoptions(threshold=np.inf)"
   ]
  },
  {
   "cell_type": "code",
   "execution_count": 42,
   "outputs": [],
   "source": [
    "class CIFAR10_custom(CIFAR10):\n",
    "    def __init__(self,*args, **kwargs) -> None:\n",
    "        super(CIFAR10_custom, self).__init__(*args, **kwargs)\n",
    "        self.format = 'rgb'\n",
    "\n",
    "\n",
    "    def to_ycbcr(self, in_place = False) -> None:\n",
    "        r\"\"\"Convert entire dataset from RGB to YCbCr.\n",
    "\n",
    "             Args:\n",
    "                in_place (bool) = False: boolean whether to modify the entire CIFRA10 dataset in memory. If set to false, returns the (images, targets) of (B, C, H, W) images.\n",
    "\n",
    "        \"\"\"\n",
    "        if self.format == 'ycbcr' and not in_place: # prevent applying transformation twice\n",
    "            return self.data.transpose((0, 3, 1, 2)), self.targets\n",
    "\n",
    "        if self.format == 'ycbcr' and in_place:\n",
    "            return None\n",
    "\n",
    "        data = self.data.transpose((0, 3, 1, 2))  # convert to CHW\n",
    "\n",
    "\n",
    "        r = data[..., 0, :, :]\n",
    "        g = data[..., 1, :, :]\n",
    "        b = data[..., 2, :, :]\n",
    "\n",
    "        y = 0.299 * r + 0.587 * g + 0.114 * b\n",
    "        cb = -0.168736 * r - 0.331264 * g + 0.5 * b + 128\n",
    "        cr = 0.5 * r - 0.418688 * g - 0.081312 * b + 128\n",
    "\n",
    "\n",
    "        if in_place:\n",
    "            self.format = 'ycbcr'\n",
    "            self.data = np.stack((y, cb, cr), axis=-3).transpose((0, 2, 3, 1))\n",
    "        else:\n",
    "            return np.stack((y, cb, cr), axis=-3), self.targets\n"
   ],
   "metadata": {
    "collapsed": false,
    "pycharm": {
     "name": "#%%\n"
    }
   }
  },
  {
   "cell_type": "code",
   "execution_count": 43,
   "outputs": [],
   "source": [
    "def apply_across_batch(array, func, *args, **kwargs):\n",
    "    # Get the shape of the input array\n",
    "    batch_size, channels, H, W = array.shape\n",
    "\n",
    "    # Initialize an output array of the same shape as the input\n",
    "    output = np.zeros_like(array)\n",
    "\n",
    "    # Iterate over the batch and channel dimensions\n",
    "    for i in range(batch_size):\n",
    "        output[i, :, :, :] = func(array[i, :, :, :], *args, **kwargs)\n",
    "\n",
    "    return output"
   ],
   "metadata": {
    "collapsed": false,
    "pycharm": {
     "name": "#%%\n"
    }
   }
  },
  {
   "cell_type": "code",
   "execution_count": 44,
   "outputs": [],
   "source": [
    "def blockwise_dct(image: np.array, block_size: tuple[int, int]=(8, 8)):\n",
    "    height, width = image.shape\n",
    "    block_height, block_width = block_size\n",
    "\n",
    "    dct_blocks = np.zeros_like(image, dtype=np.float32)\n",
    "\n",
    "\n",
    "    for i in range(0, height, block_height):\n",
    "        for j in range(0, width, block_width):\n",
    "            # Extract the block from the image\n",
    "            block = image[i:i+block_height, j:j+block_width]\n",
    "\n",
    "            # Apply the 2D DCT to the block\n",
    "            dct_block = dctn(block, norm='ortho')\n",
    "\n",
    "            # Store the DCT coefficients\n",
    "            dct_blocks[i:i+block_height, j:j+block_width] = dct_block\n",
    "\n",
    "    return dct_blocks"
   ],
   "metadata": {
    "collapsed": false,
    "pycharm": {
     "name": "#%%\n"
    }
   }
  },
  {
   "cell_type": "code",
   "execution_count": 45,
   "outputs": [],
   "source": [
    "def blockwise_quantize(dct: np.ndarray, mode='l', alpha: int = 1, block_size=(8, 8)) -> np.ndarray:\n",
    "    luminance_quantization_matrix = np.array([\n",
    "        [16, 11, 10, 16, 24, 40, 51, 61],\n",
    "        [12, 12, 14, 19, 26, 58, 60, 55],\n",
    "        [14, 13, 16, 24, 40, 57, 69, 56],\n",
    "        [14, 17, 22, 29, 51, 87, 80, 62],\n",
    "        [18, 22, 37, 56, 68, 109, 103, 77],\n",
    "        [24, 35, 55, 64, 81, 104, 113, 92],\n",
    "        [49, 64, 78, 87, 103, 121, 120, 101],\n",
    "        [72, 92, 95, 98, 112, 100, 103, 99]\n",
    "    ])\n",
    "\n",
    "    chrominance_quantization_matrix = np.array([\n",
    "        [17, 18, 24, 47, 99, 99, 99, 99],\n",
    "        [18, 21, 26, 66, 99, 99, 99, 99],\n",
    "        [24, 26, 56, 99, 99, 99, 99, 99],\n",
    "        [47, 66, 99, 99, 99, 99, 99, 99],\n",
    "        [99, 99, 99, 99, 99, 99, 99, 99],\n",
    "        [99, 99, 99, 99, 99, 99, 99, 99],\n",
    "        [99, 99, 99, 99, 99, 99, 99, 99],\n",
    "        [99, 99, 99, 99, 99, 99, 99, 99]\n",
    "    ])\n",
    "\n",
    "    # Choose the appropriate quantization matrix based on the mode\n",
    "    quantization_matrix = luminance_quantization_matrix if mode == 'l' else chrominance_quantization_matrix\n",
    "\n",
    "    # Adjust the quantization matrix by the alpha multiplier\n",
    "    quantization_matrix = quantization_matrix * alpha\n",
    "\n",
    "    # Ensure the dimensions of the DCT input are divisible by the block size\n",
    "    height, width = dct.shape\n",
    "    block_height_num, block_width_num = height // block_size[0], width // block_size[1]\n",
    "\n",
    "    # Tile the quantization matrix to cover the whole DCT matrix\n",
    "    quantization_matrix_tiled = np.tile(quantization_matrix, (block_height_num, block_width_num))\n",
    "\n",
    "    # Perform the quantization\n",
    "    quantized_dct = np.round(dct / quantization_matrix_tiled).astype(np.int8)\n",
    "\n",
    "    return quantized_dct"
   ],
   "metadata": {
    "collapsed": false,
    "pycharm": {
     "name": "#%%\n"
    }
   }
  },
  {
   "cell_type": "code",
   "execution_count": 46,
   "outputs": [],
   "source": [
    "def compress_quantise_across_channels(image: np.ndarray, alpha: int = 1, block_size=(8, 8), *args, **kwargs):\n",
    "    channels, height, width = image.shape\n",
    "\n",
    "    assert channels == 3, f'channels must be 3 YCbCr but got {channels} instead'\n",
    "\n",
    "\n",
    "    y = blockwise_dct(image[0, :, :], block_size, *args, **kwargs)\n",
    "    cb = blockwise_dct(image[1, :, :], block_size, *args, **kwargs)\n",
    "    cr = blockwise_dct(image[2, :, :],block_size, *args, **kwargs)\n",
    "\n",
    "    y = blockwise_quantize(y, 'l', alpha, block_size, *args, **kwargs)\n",
    "    cb = blockwise_quantize(y, 'c', alpha, block_size, *args, **kwargs)\n",
    "    cr = blockwise_quantize(y, 'c', alpha, block_size, *args, **kwargs)\n",
    "\n",
    "\n",
    "    output = np.stack((y, cb, cr), axis=-3)\n",
    "    return output"
   ],
   "metadata": {
    "collapsed": false,
    "pycharm": {
     "name": "#%%\n"
    }
   }
  },
  {
   "cell_type": "code",
   "execution_count": 47,
   "outputs": [
    {
     "data": {
      "text/plain": "(3, 32, 32)"
     },
     "execution_count": 47,
     "metadata": {},
     "output_type": "execute_result"
    }
   ],
   "source": [
    "array = np.random.rand(3, 32, 32)\n",
    "compress_quantise_across_channels(array).shape"
   ],
   "metadata": {
    "collapsed": false,
    "pycharm": {
     "name": "#%%\n"
    }
   }
  },
  {
   "cell_type": "code",
   "execution_count": 48,
   "outputs": [],
   "source": [
    "download_path = os.path.join('..', 'data', 'cifar10')\n",
    "\n",
    "if not os.path.exists(download_path):\n",
    "    os.makedirs(download_path)"
   ],
   "metadata": {
    "collapsed": false,
    "pycharm": {
     "name": "#%%\n"
    }
   }
  },
  {
   "cell_type": "code",
   "execution_count": 49,
   "outputs": [
    {
     "name": "stdout",
     "output_type": "stream",
     "text": [
      "Files already downloaded and verified\n"
     ]
    }
   ],
   "source": [
    "cifar = CIFAR10_custom(download_path, download = True)"
   ],
   "metadata": {
    "collapsed": false,
    "pycharm": {
     "name": "#%%\n"
    }
   }
  },
  {
   "cell_type": "code",
   "execution_count": 63,
   "outputs": [
    {
     "data": {
      "text/plain": "'ycbcr'"
     },
     "execution_count": 63,
     "metadata": {},
     "output_type": "execute_result"
    }
   ],
   "source": [
    "cifar.format"
   ],
   "metadata": {
    "collapsed": false,
    "pycharm": {
     "name": "#%%\n"
    }
   }
  },
  {
   "cell_type": "code",
   "execution_count": 68,
   "outputs": [],
   "source": [
    "cifar.to_ycbcr(in_place=True)"
   ],
   "metadata": {
    "collapsed": false,
    "pycharm": {
     "name": "#%%\n"
    }
   }
  },
  {
   "cell_type": "code",
   "execution_count": 70,
   "outputs": [],
   "source": [
    "output = cifar.to_ycbcr(in_place=False)"
   ],
   "metadata": {
    "collapsed": false,
    "pycharm": {
     "name": "#%%\n"
    }
   }
  },
  {
   "cell_type": "code",
   "execution_count": 71,
   "outputs": [
    {
     "data": {
      "text/plain": "array([[[[ 61.217   , 129.006208, 126.418688],\n         [ 44.989   , 128.006208, 126.581312],\n         [ 48.028   , 125.162528, 129.40656 ],\n         ...,\n         [137.038   , 111.612864, 142.951488],\n         [130.451   , 111.944128, 143.370176],\n         [128.782   , 113.450336, 141.707552]],\n\n        [[ 18.804   , 128.674944, 126.      ],\n         [  0.      , 128.      , 128.      ],\n         [ 10.078   , 122.31264 , 133.650496],\n         ...,\n         [ 94.703   , 105.59424 , 148.183296],\n         [ 90.002   , 105.425504, 148.683296],\n         [ 94.045   , 107.09424 , 147.93936 ]],\n\n        [[ 23.957   , 126.331264, 128.743936],\n         [  8.893   , 122.981376, 133.069184],\n         [ 31.412   , 114.787808, 140.544928],\n         ...,\n         [ 90.29    , 105.262976, 147.764608],\n         [ 90.888   , 104.925504, 148.764608],\n         [ 80.23    , 106.425504, 148.520672]],\n\n        ...,\n\n        [[172.926   ,  84.588032, 153.017088],\n         [153.786   ,  60.400672, 161.676128],\n         [156.673   ,  54.256768, 157.47712 ],\n         ...,\n         [133.891   ,  91.944128, 146.622656],\n         [ 35.739   , 111.7816  , 142.451488],\n         [ 38.085   , 117.794016, 138.638368]],\n\n        [[146.357   ,  99.581824, 151.996416],\n         [128.716   ,  79.0632  , 159.586272],\n         [143.562   ,  63.913088, 158.269568],\n         ...,\n         [152.608   ,  94.925504, 150.390848],\n         [ 69.273   , 108.09424 , 147.776736],\n         [ 59.804   , 113.43792 , 144.544928]],\n\n        [[150.675   , 108.431712, 146.776736],\n         [136.671   , 103.919296, 150.34592 ],\n         [146.793   ,  94.256768, 150.97216 ],\n         ...,\n         [188.552   , 100.600448, 147.577728],\n         [123.991   , 105.431712, 147.264608],\n         [ 98.989   , 112.769184, 145.12624 ]]],\n\n\n       [[[171.263   , 136.880928, 115.68688 ],\n         [133.597   , 129.356096, 122.581312],\n         [103.273   , 123.331264, 129.231808],\n         ...,\n         [ 91.068   , 116.674944, 127.951488],\n         [ 86.937   , 119.006208, 128.044928],\n         [ 79.148   , 122.837472, 127.894432]],\n\n        [[155.046   , 135.87472 , 117.268192],\n         [150.722   , 129.849888, 123.918688],\n         [124.202   , 124.5     , 128.569184],\n         ...,\n         [ 95.709   , 118.006208, 128.207552],\n         [ 77.051   , 119.506208, 127.963616],\n         [ 71.034   , 122.337472, 127.975744]],\n\n        [[151.541   , 135.03104 , 119.768192],\n         [144.249   , 130.681152, 124.256064],\n         [114.658   , 126.5     , 128.243936],\n         ...,\n         [ 79.051   , 119.506208, 127.963616],\n         [ 67.692   , 120.837472, 128.21968 ],\n         [ 66.806   , 121.337472, 128.138368]],\n\n        ...,\n\n        [[169.278   , 126.150112, 132.081312],\n         [155.282   , 130.662528, 128.512128],\n         [159.346   , 134.012416, 124.18688 ],\n         ...,\n         [ 36.62    , 127.650112, 131.837376],\n         [ 55.848   , 128.650112, 131.674752],\n         [ 86.902   , 130.31264 , 132.349504]],\n\n        [[154.325   , 113.143904, 135.614112],\n         [150.688   , 116.325056, 131.788864],\n         [158.236   , 118.837472, 128.544928],\n         ...,\n         [ 96.332   , 127.81264 , 132.756064],\n         [117.375   , 129.481376, 132.012128],\n         [125.13    , 131.31264 , 132.18688 ]],\n\n        [[149.293   , 111.46896 , 137.776736],\n         [148.026   , 113.31264 , 135.114112],\n         [155.471   , 115.318848, 133.370176],\n         ...,\n         [136.674   , 129.31264 , 132.512128],\n         [137.603   , 130.481376, 131.849504],\n         [137.244   , 131.81264 , 132.105568]]],\n\n\n       [[[255.      , 128.      , 128.      ],\n         [253.      , 128.      , 128.      ],\n         [253.      , 128.      , 128.      ],\n         ...,\n         [253.      , 128.      , 128.      ],\n         [253.      , 128.      , 128.      ],\n         [253.      , 128.      , 128.      ]],\n\n        [[255.      , 128.      , 128.      ],\n         [255.      , 128.      , 128.      ],\n         [255.      , 128.      , 128.      ],\n         ...,\n         [255.      , 128.      , 128.      ],\n         [255.      , 128.      , 128.      ],\n         [255.      , 128.      , 128.      ]],\n\n        [[255.      , 128.      , 128.      ],\n         [254.      , 128.      , 128.      ],\n         [254.      , 128.      , 128.      ],\n         ...,\n         [254.      , 128.      , 128.      ],\n         [254.      , 128.      , 128.      ],\n         [254.      , 128.      , 128.      ]],\n\n        ...,\n\n        [[116.995   , 125.181152, 125.150496],\n         [115.109   , 125.681152, 125.069184],\n         [109.223   , 126.181152, 124.987872],\n         ...,\n         [ 78.195   , 129.018624, 123.581312],\n         [ 77.494   , 128.849888, 124.081312],\n         [ 77.494   , 128.849888, 124.081312]],\n\n        [[114.995   , 125.181152, 125.150496],\n         [108.109   , 125.681152, 125.069184],\n         [102.995   , 125.181152, 125.150496],\n         ...,\n         [ 72.679   , 128.181152, 124.662624],\n         [ 74.092   , 128.512416, 125.081312],\n         [ 81.978   , 128.012416, 125.162624]],\n\n        [[109.995   , 125.181152, 125.150496],\n         [102.995   , 125.181152, 125.150496],\n         [ 98.995   , 125.181152, 125.150496],\n         ...,\n         [ 82.679   , 128.181152, 124.662624],\n         [ 82.978   , 128.012416, 125.162624],\n         [ 83.978   , 128.012416, 125.162624]]],\n\n\n       [[[ 24.187   , 119.993792, 130.71968 ],\n         [ 33.187   , 119.993792, 130.71968 ],\n         [ 34.187   , 119.993792, 130.71968 ],\n         ...,\n         [ 66.499   , 112.481376, 134.776736],\n         [ 71.385   , 111.981376, 134.858048],\n         [ 75.385   , 111.981376, 134.858048]],\n\n        [[ 27.785   , 119.65632 , 131.71968 ],\n         [ 29.372   , 119.325056, 131.300992],\n         [ 26.785   , 119.65632 , 131.71968 ],\n         ...,\n         [ 82.809   , 112.306432, 136.695424],\n         [ 83.222   , 112.637696, 137.114112],\n         [ 72.809   , 112.306432, 136.695424]],\n\n        [[ 32.155   , 118.318848, 132.882304],\n         [ 33.269   , 118.818848, 132.800992],\n         [ 50.155   , 118.318848, 132.882304],\n         ...,\n         [ 78.347   , 113.131488, 138.451488],\n         [ 91.76    , 113.462752, 138.870176],\n         [ 79.76    , 113.462752, 138.870176]],\n\n        ...,\n\n        [[ 73.596   , 115.81264 , 134.707552],\n         [ 77.596   , 115.81264 , 134.707552],\n         [ 74.482   , 115.31264 , 134.788864],\n         ...,\n         [ 92.172   , 115.487584, 132.870176],\n         [ 83.172   , 115.487584, 132.870176],\n         [ 74.172   , 115.487584, 132.870176]],\n\n        [[ 74.39    , 114.800224, 137.707552],\n         [ 76.276   , 114.300224, 137.788864],\n         [ 79.39    , 114.800224, 137.707552],\n         ...,\n         [ 73.4     , 116.487584, 132.707552],\n         [ 69.4     , 116.487584, 132.707552],\n         [ 75.4     , 116.487584, 132.707552]],\n\n        [[ 81.173   , 113.794016, 139.288864],\n         [ 78.173   , 113.794016, 139.288864],\n         [ 77.874   , 113.962752, 138.788864],\n         ...,\n         [ 46.927   , 117.318848, 133.044928],\n         [ 55.927   , 117.318848, 133.044928],\n         [ 64.927   , 117.318848, 133.044928]]]])"
     },
     "execution_count": 71,
     "metadata": {},
     "output_type": "execute_result"
    }
   ],
   "source": [
    "cifar.data[:4]"
   ],
   "metadata": {
    "collapsed": false,
    "pycharm": {
     "name": "#%%\n"
    }
   }
  },
  {
   "cell_type": "code",
   "execution_count": 72,
   "outputs": [],
   "source": [
    "images, _ = output"
   ],
   "metadata": {
    "collapsed": false,
    "pycharm": {
     "name": "#%%\n"
    }
   }
  },
  {
   "cell_type": "code",
   "execution_count": 73,
   "outputs": [
    {
     "data": {
      "text/plain": "array([[[[ 61.217   ,  44.989   ,  48.028   , ..., 137.038   ,\n          130.451   , 128.782   ],\n         [ 18.804   ,   0.      ,  10.078   , ...,  94.703   ,\n           90.002   ,  94.045   ],\n         [ 23.957   ,   8.893   ,  31.412   , ...,  90.29    ,\n           90.888   ,  80.23    ],\n         ...,\n         [172.926   , 153.786   , 156.673   , ..., 133.891   ,\n           35.739   ,  38.085   ],\n         [146.357   , 128.716   , 143.562   , ..., 152.608   ,\n           69.273   ,  59.804   ],\n         [150.675   , 136.671   , 146.793   , ..., 188.552   ,\n          123.991   ,  98.989   ]],\n\n        [[129.006208, 128.006208, 125.162528, ..., 111.612864,\n          111.944128, 113.450336],\n         [128.674944, 128.      , 122.31264 , ..., 105.59424 ,\n          105.425504, 107.09424 ],\n         [126.331264, 122.981376, 114.787808, ..., 105.262976,\n          104.925504, 106.425504],\n         ...,\n         [ 84.588032,  60.400672,  54.256768, ...,  91.944128,\n          111.7816  , 117.794016],\n         [ 99.581824,  79.0632  ,  63.913088, ...,  94.925504,\n          108.09424 , 113.43792 ],\n         [108.431712, 103.919296,  94.256768, ..., 100.600448,\n          105.431712, 112.769184]],\n\n        [[126.418688, 126.581312, 129.40656 , ..., 142.951488,\n          143.370176, 141.707552],\n         [126.      , 128.      , 133.650496, ..., 148.183296,\n          148.683296, 147.93936 ],\n         [128.743936, 133.069184, 140.544928, ..., 147.764608,\n          148.764608, 148.520672],\n         ...,\n         [153.017088, 161.676128, 157.47712 , ..., 146.622656,\n          142.451488, 138.638368],\n         [151.996416, 159.586272, 158.269568, ..., 150.390848,\n          147.776736, 144.544928],\n         [146.776736, 150.34592 , 150.97216 , ..., 147.577728,\n          147.264608, 145.12624 ]]],\n\n\n       [[[171.263   , 133.597   , 103.273   , ...,  91.068   ,\n           86.937   ,  79.148   ],\n         [155.046   , 150.722   , 124.202   , ...,  95.709   ,\n           77.051   ,  71.034   ],\n         [151.541   , 144.249   , 114.658   , ...,  79.051   ,\n           67.692   ,  66.806   ],\n         ...,\n         [169.278   , 155.282   , 159.346   , ...,  36.62    ,\n           55.848   ,  86.902   ],\n         [154.325   , 150.688   , 158.236   , ...,  96.332   ,\n          117.375   , 125.13    ],\n         [149.293   , 148.026   , 155.471   , ..., 136.674   ,\n          137.603   , 137.244   ]],\n\n        [[136.880928, 129.356096, 123.331264, ..., 116.674944,\n          119.006208, 122.837472],\n         [135.87472 , 129.849888, 124.5     , ..., 118.006208,\n          119.506208, 122.337472],\n         [135.03104 , 130.681152, 126.5     , ..., 119.506208,\n          120.837472, 121.337472],\n         ...,\n         [126.150112, 130.662528, 134.012416, ..., 127.650112,\n          128.650112, 130.31264 ],\n         [113.143904, 116.325056, 118.837472, ..., 127.81264 ,\n          129.481376, 131.31264 ],\n         [111.46896 , 113.31264 , 115.318848, ..., 129.31264 ,\n          130.481376, 131.81264 ]],\n\n        [[115.68688 , 122.581312, 129.231808, ..., 127.951488,\n          128.044928, 127.894432],\n         [117.268192, 123.918688, 128.569184, ..., 128.207552,\n          127.963616, 127.975744],\n         [119.768192, 124.256064, 128.243936, ..., 127.963616,\n          128.21968 , 128.138368],\n         ...,\n         [132.081312, 128.512128, 124.18688 , ..., 131.837376,\n          131.674752, 132.349504],\n         [135.614112, 131.788864, 128.544928, ..., 132.756064,\n          132.012128, 132.18688 ],\n         [137.776736, 135.114112, 133.370176, ..., 132.512128,\n          131.849504, 132.105568]]],\n\n\n       [[[255.      , 253.      , 253.      , ..., 253.      ,\n          253.      , 253.      ],\n         [255.      , 255.      , 255.      , ..., 255.      ,\n          255.      , 255.      ],\n         [255.      , 254.      , 254.      , ..., 254.      ,\n          254.      , 254.      ],\n         ...,\n         [116.995   , 115.109   , 109.223   , ...,  78.195   ,\n           77.494   ,  77.494   ],\n         [114.995   , 108.109   , 102.995   , ...,  72.679   ,\n           74.092   ,  81.978   ],\n         [109.995   , 102.995   ,  98.995   , ...,  82.679   ,\n           82.978   ,  83.978   ]],\n\n        [[128.      , 128.      , 128.      , ..., 128.      ,\n          128.      , 128.      ],\n         [128.      , 128.      , 128.      , ..., 128.      ,\n          128.      , 128.      ],\n         [128.      , 128.      , 128.      , ..., 128.      ,\n          128.      , 128.      ],\n         ...,\n         [125.181152, 125.681152, 126.181152, ..., 129.018624,\n          128.849888, 128.849888],\n         [125.181152, 125.681152, 125.181152, ..., 128.181152,\n          128.512416, 128.012416],\n         [125.181152, 125.181152, 125.181152, ..., 128.181152,\n          128.012416, 128.012416]],\n\n        [[128.      , 128.      , 128.      , ..., 128.      ,\n          128.      , 128.      ],\n         [128.      , 128.      , 128.      , ..., 128.      ,\n          128.      , 128.      ],\n         [128.      , 128.      , 128.      , ..., 128.      ,\n          128.      , 128.      ],\n         ...,\n         [125.150496, 125.069184, 124.987872, ..., 123.581312,\n          124.081312, 124.081312],\n         [125.150496, 125.069184, 125.150496, ..., 124.662624,\n          125.081312, 125.162624],\n         [125.150496, 125.150496, 125.150496, ..., 124.662624,\n          125.162624, 125.162624]]],\n\n\n       [[[ 24.187   ,  33.187   ,  34.187   , ...,  66.499   ,\n           71.385   ,  75.385   ],\n         [ 27.785   ,  29.372   ,  26.785   , ...,  82.809   ,\n           83.222   ,  72.809   ],\n         [ 32.155   ,  33.269   ,  50.155   , ...,  78.347   ,\n           91.76    ,  79.76    ],\n         ...,\n         [ 73.596   ,  77.596   ,  74.482   , ...,  92.172   ,\n           83.172   ,  74.172   ],\n         [ 74.39    ,  76.276   ,  79.39    , ...,  73.4     ,\n           69.4     ,  75.4     ],\n         [ 81.173   ,  78.173   ,  77.874   , ...,  46.927   ,\n           55.927   ,  64.927   ]],\n\n        [[119.993792, 119.993792, 119.993792, ..., 112.481376,\n          111.981376, 111.981376],\n         [119.65632 , 119.325056, 119.65632 , ..., 112.306432,\n          112.637696, 112.306432],\n         [118.318848, 118.818848, 118.318848, ..., 113.131488,\n          113.462752, 113.462752],\n         ...,\n         [115.81264 , 115.81264 , 115.31264 , ..., 115.487584,\n          115.487584, 115.487584],\n         [114.800224, 114.300224, 114.800224, ..., 116.487584,\n          116.487584, 116.487584],\n         [113.794016, 113.794016, 113.962752, ..., 117.318848,\n          117.318848, 117.318848]],\n\n        [[130.71968 , 130.71968 , 130.71968 , ..., 134.776736,\n          134.858048, 134.858048],\n         [131.71968 , 131.300992, 131.71968 , ..., 136.695424,\n          137.114112, 136.695424],\n         [132.882304, 132.800992, 132.882304, ..., 138.451488,\n          138.870176, 138.870176],\n         ...,\n         [134.707552, 134.707552, 134.788864, ..., 132.870176,\n          132.870176, 132.870176],\n         [137.707552, 137.788864, 137.707552, ..., 132.707552,\n          132.707552, 132.707552],\n         [139.288864, 139.288864, 138.788864, ..., 133.044928,\n          133.044928, 133.044928]]]])"
     },
     "execution_count": 73,
     "metadata": {},
     "output_type": "execute_result"
    }
   ],
   "source": [
    "fimage = images[:4]\n",
    "fimage"
   ],
   "metadata": {
    "collapsed": false,
    "pycharm": {
     "name": "#%%\n"
    }
   }
  },
  {
   "cell_type": "code",
   "execution_count": 45,
   "outputs": [],
   "source": [
    "cfimage = apply_across_batch(fimage, compress_quantise_across_channels)"
   ],
   "metadata": {
    "collapsed": false,
    "pycharm": {
     "name": "#%%\n"
    }
   }
  },
  {
   "cell_type": "code",
   "execution_count": 46,
   "outputs": [
    {
     "data": {
      "text/plain": "array([[ 37., -13.,  -4.,   1.,   0.,   0.,   0.,   0.],\n       [ -7.,  -7.,   2.,   1.,   0.,   0.,   0.,   0.],\n       [  3.,   1.,   3.,   0.,   0.,   0.,   0.,   0.],\n       [  2.,   1.,   0.,   0.,   0.,   0.,   0.,   0.],\n       [  1.,   1.,   0.,   0.,   0.,   0.,   0.,   0.],\n       [  1.,   1.,   0.,   0.,   0.,   0.,   0.,   0.],\n       [  1.,   0.,   0.,   0.,   0.,   0.,   0.,   0.],\n       [  0.,   0.,   0.,   0.,   0.,   0.,   0.,   0.]])"
     },
     "execution_count": 46,
     "metadata": {},
     "output_type": "execute_result"
    }
   ],
   "source": [
    "cfimage[0, 0, 0:8, 0:8]"
   ],
   "metadata": {
    "collapsed": false,
    "pycharm": {
     "name": "#%%\n"
    }
   }
  },
  {
   "cell_type": "code",
   "execution_count": null,
   "outputs": [],
   "source": [],
   "metadata": {
    "collapsed": false,
    "pycharm": {
     "name": "#%%\n"
    }
   }
  }
 ],
 "metadata": {
  "kernelspec": {
   "display_name": "Python 3",
   "language": "python",
   "name": "python3"
  },
  "language_info": {
   "codemirror_mode": {
    "name": "ipython",
    "version": 2
   },
   "file_extension": ".py",
   "mimetype": "text/x-python",
   "name": "python",
   "nbconvert_exporter": "python",
   "pygments_lexer": "ipython2",
   "version": "2.7.6"
  }
 },
 "nbformat": 4,
 "nbformat_minor": 0
}