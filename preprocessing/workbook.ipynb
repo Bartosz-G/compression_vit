{
 "cells": [
  {
   "cell_type": "code",
   "execution_count": null,
   "metadata": {
    "collapsed": true,
    "pycharm": {
     "name": "#%%\n"
    }
   },
   "outputs": [],
   "source": [
    "import torch\n",
    "import numpy as np\n",
    "from torchvision.datasets import CIFAR10\n",
    "from torch.utils.data import DataLoader\n",
    "import torchvision.transforms as transforms\n",
    "import os\n",
    "from scipy.fft import dctn, idctn\n",
    "\n",
    "import matplotlib.pyplot as plt\n",
    "torch.set_printoptions(threshold=10_000)"
   ]
  },
  {
   "cell_type": "code",
   "execution_count": null,
   "outputs": [],
   "source": [
    "class CIFAR10_custom(CIFAR10):\n",
    "    def __init__(self,*args, **kwargs) -> None:\n",
    "        super(CIFAR10_custom, self).__init__(*args, **kwargs)\n",
    "\n",
    "    def to_ycbcr(self) -> None:\n",
    "        r\"\"\"Convert entire dataset from RGB to YCbCr.\n",
    "        \"\"\"\n",
    "        data = self.data.transpose((0, 3, 1, 2))  # convert to CHW\n",
    "\n",
    "        r = data[..., 0, :, :]\n",
    "        g = data[..., 1, :, :]\n",
    "        b = data[..., 2, :, :]\n",
    "\n",
    "        y = 0.299 * r + 0.587 * g + 0.114 * b\n",
    "        cb = -0.168736 * r - 0.331264 * g + 0.5 * b + 128\n",
    "        cr = 0.5 * r - 0.418688 * g - 0.081312 * b + 128\n",
    "\n",
    "        self.data = np.stack((y, cb, cr), axis=-3)\n",
    "\n"
   ],
   "metadata": {
    "collapsed": false,
    "pycharm": {
     "name": "#%%\n"
    }
   }
  }
 ],
 "metadata": {
  "kernelspec": {
   "display_name": "Python 3",
   "language": "python",
   "name": "python3"
  },
  "language_info": {
   "codemirror_mode": {
    "name": "ipython",
    "version": 2
   },
   "file_extension": ".py",
   "mimetype": "text/x-python",
   "name": "python",
   "nbconvert_exporter": "python",
   "pygments_lexer": "ipython2",
   "version": "2.7.6"
  }
 },
 "nbformat": 4,
 "nbformat_minor": 0
}