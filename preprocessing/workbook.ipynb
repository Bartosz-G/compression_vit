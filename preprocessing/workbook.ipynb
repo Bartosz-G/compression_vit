{
 "cells": [
  {
   "cell_type": "code",
   "execution_count": 1,
   "outputs": [],
   "source": [
    "import torch\n",
    "import numpy as np\n",
    "import os\n",
    "from torch import nn\n",
    "from dataset import CIFAR10_custom\n",
    "from transforms import CompressedToTensor, ZigZagOrder, ChooseAC, FlattenZigZag\n",
    "from torchvision.transforms import Compose\n",
    "\n",
    "\n",
    "torch.set_printoptions(threshold=10_000)\n",
    "np.set_printoptions(threshold=np.inf)"
   ],
   "metadata": {
    "collapsed": false,
    "pycharm": {
     "name": "#%%\n"
    }
   }
  },
  {
   "cell_type": "code",
   "execution_count": 3,
   "outputs": [],
   "source": [
    "download_path = os.path.join('..', 'data', 'cifar10')\n",
    "\n",
    "if not os.path.exists(download_path):\n",
    "    os.makedirs(download_path)"
   ],
   "metadata": {
    "collapsed": false,
    "pycharm": {
     "name": "#%%\n"
    }
   }
  },
  {
   "cell_type": "code",
   "execution_count": 20,
   "outputs": [],
   "source": [
    "# transform = Compose([CompressedToTensor(),\n",
    "#                      ZigZagOrder(),\n",
    "#                      ChooseAC(5),\n",
    "#                      FlattenZigZag()])\n",
    "\n",
    "transform = Compose([CompressedToTensor(),\n",
    "                     ZigZagOrder(),\n",
    "                     ChooseAC(5)])\n",
    "\n",
    "\n",
    "\n",
    "# transform = Compose([CompressedToTensor(),\n",
    "#                      ZigZagOrder(),\n",
    "#                      ChooseAC(5)])\n",
    "\n",
    "\n",
    "cifar = CIFAR10_custom(root=download_path, train=True, transform=transform, target_transform=None, download = False, compression=None)"
   ],
   "metadata": {
    "collapsed": false,
    "pycharm": {
     "name": "#%%\n"
    }
   }
  },
  {
   "cell_type": "code",
   "execution_count": 21,
   "outputs": [],
   "source": [
    "cifar.to_ycbcr(in_place=True)\n",
    "cifar.compress(in_place=True)"
   ],
   "metadata": {
    "collapsed": false,
    "pycharm": {
     "name": "#%%\n"
    }
   }
  },
  {
   "cell_type": "code",
   "execution_count": 22,
   "outputs": [
    {
     "data": {
      "text/plain": "torch.Size([3, 16, 6])"
     },
     "execution_count": 22,
     "metadata": {},
     "output_type": "execute_result"
    }
   ],
   "source": [
    "cifar[0][0].shape"
   ],
   "metadata": {
    "collapsed": false,
    "pycharm": {
     "name": "#%%\n"
    }
   }
  },
  {
   "cell_type": "code",
   "execution_count": 23,
   "outputs": [
    {
     "data": {
      "text/plain": "tensor([[[ 37., -13.,  -7.,   3.,  -7.,  -4.],\n         [ 42.,   4.,   7.,   0.,  -5.,   1.],\n         [ 44.,  -2.,   8.,   0.,  -2.,   4.],\n         [ 45.,   8.,   9.,   6.,  -5.,  -2.],\n         [ 50.,  12.,   3.,  -2.,  -5.,  -1.],\n         [ 55., -11., -23.,  -2.,  16.,   5.],\n         [ 72.,   8., -36.,   3.,   2.,  -1.],\n         [ 51.,   3.,  -5.,   2.,  -7.,   2.],\n         [ 54.,  -6.,  -3.,  -5.,   5.,   8.],\n         [ 80.,   7.,  11.,   1.,  -4.,   2.],\n         [ 73.,  -6.,  23.,   3.,  -2.,   7.],\n         [ 58.,   5.,   2.,   4.,  12.,  13.],\n         [ 65.,   4., -12.,   2.,   1.,   5.],\n         [ 59.,   1.,   6.,  10.,  -3.,  -1.],\n         [ 51.,   4.,  -2.,  -1.,  -1.,  -2.],\n         [ 53.,  -3.,   8.,   1.,  -3.,  -5.]],\n\n        [[ 50.,   3.,   3.,   0.,   1.,   1.],\n         [ 49.,   0.,   0.,   1.,   1.,   0.],\n         [ 50.,  -1.,  -1.,   1.,   1.,   0.],\n         [ 50.,  -1.,   0.,   0.,   0.,   1.],\n         [ 49.,  -1.,   0.,   0.,   1.,   0.],\n         [ 48.,   0.,   1.,   2.,   0.,   1.],\n         [ 48.,  -1.,   1.,   2.,  -1.,   0.],\n         [ 48.,   0.,   0.,   0.,   0.,   0.],\n         [ 48.,  -1.,   1.,   0.,   0.,   1.],\n         [ 49.,   1.,   1.,   0.,   0.,   1.],\n         [ 49.,  -1.,   2.,   0.,   1.,   1.],\n         [ 43.,   2.,   1.,  -1.,   0.,   2.],\n         [ 39.,  -1.,   4.,   1.,  -2.,   1.],\n         [ 47.,  -1.,   1.,   0.,   1.,   0.],\n         [ 47.,   0.,   0.,   0.,   0.,   0.],\n         [ 47.,   0.,  -3.,   0.,   0.,   1.]],\n\n        [[ 69.,  -2.,  -2.,   0.,  -1.,  -1.],\n         [ 70.,   0.,   0.,   0.,  -1.,   0.],\n         [ 70.,   0.,   0.,   0.,  -1.,   1.],\n         [ 70.,   1.,   0.,   0.,   0.,   0.],\n         [ 70.,   0.,   0.,   0.,   0.,   0.],\n         [ 71.,   0.,   0.,  -1.,  -1.,  -1.],\n         [ 71.,   2.,   3.,  -1.,   1.,   0.],\n         [ 71.,   0.,   1.,  -1.,   0.,   0.],\n         [ 71.,   1.,  -1.,   1.,   0.,  -1.],\n         [ 70.,  -1.,  -1.,   0.,   0.,  -1.],\n         [ 68.,   1.,  -2.,   0.,   0.,   0.],\n         [ 68.,   0.,   2.,  -1.,   0.,   0.],\n         [ 73.,   1.,   0.,   0.,   0.,   0.],\n         [ 72.,   0.,   0.,  -1.,   0.,   0.],\n         [ 72.,   0.,   0.,   0.,   0.,   0.],\n         [ 69.,   0.,   0.,   0.,   0.,   0.]]], dtype=torch.float64)"
     },
     "execution_count": 23,
     "metadata": {},
     "output_type": "execute_result"
    }
   ],
   "source": [
    "cifar[0][0]"
   ],
   "metadata": {
    "collapsed": false,
    "pycharm": {
     "name": "#%%\n"
    }
   }
  },
  {
   "cell_type": "code",
   "execution_count": 105,
   "outputs": [
    {
     "name": "stdout",
     "output_type": "stream",
     "text": [
      "torch.Size([2, 3, 16, 6])\n",
      "torch.Size([2, 48, 6])\n"
     ]
    }
   ],
   "source": [],
   "metadata": {
    "collapsed": false,
    "pycharm": {
     "name": "#%%\n"
    }
   }
  },
  {
   "cell_type": "code",
   "execution_count": 106,
   "outputs": [],
   "source": [],
   "metadata": {
    "collapsed": false,
    "pycharm": {
     "name": "#%%\n"
    }
   }
  },
  {
   "cell_type": "code",
   "execution_count": 107,
   "outputs": [
    {
     "data": {
      "text/plain": "torch.Size([2, 48, 248])"
     },
     "execution_count": 107,
     "metadata": {},
     "output_type": "execute_result"
    }
   ],
   "source": [],
   "metadata": {
    "collapsed": false,
    "pycharm": {
     "name": "#%%\n"
    }
   }
  },
  {
   "cell_type": "code",
   "execution_count": 114,
   "outputs": [],
   "source": [],
   "metadata": {
    "collapsed": false,
    "pycharm": {
     "name": "#%%\n"
    }
   }
  },
  {
   "cell_type": "code",
   "execution_count": 115,
   "outputs": [
    {
     "data": {
      "text/plain": "tensor([[[[ 1.,  2.],\n          [ 3.,  4.]],\n\n         [[ 5.,  6.],\n          [ 7.,  8.]],\n\n         [[ 9., 10.],\n          [11., 12.]],\n\n         [[13., 14.],\n          [15., 16.]]],\n\n\n        [[[17., 18.],\n          [19., 20.]],\n\n         [[21., 22.],\n          [23., 24.]],\n\n         [[25., 26.],\n          [27., 28.]],\n\n         [[29., 30.],\n          [31., 32.]]],\n\n\n        [[[33., 34.],\n          [35., 36.]],\n\n         [[37., 38.],\n          [39., 40.]],\n\n         [[41., 42.],\n          [43., 44.]],\n\n         [[45., 46.],\n          [47., 48.]]]])"
     },
     "execution_count": 115,
     "metadata": {},
     "output_type": "execute_result"
    }
   ],
   "source": [],
   "metadata": {
    "collapsed": false,
    "pycharm": {
     "name": "#%%\n"
    }
   }
  },
  {
   "cell_type": "code",
   "execution_count": 117,
   "outputs": [
    {
     "name": "stdout",
     "output_type": "stream",
     "text": [
      "tensor([[ 1.,  2.,  3.,  4., 17., 18., 19., 20., 33., 34., 35., 36.],\n",
      "        [ 5.,  6.,  7.,  8., 21., 22., 23., 24., 37., 38., 39., 40.],\n",
      "        [ 9., 10., 11., 12., 25., 26., 27., 28., 41., 42., 43., 44.],\n",
      "        [13., 14., 15., 16., 29., 30., 31., 32., 45., 46., 47., 48.]])\n",
      "torch.Size([4, 12])\n"
     ]
    }
   ],
   "source": [],
   "metadata": {
    "collapsed": false,
    "pycharm": {
     "name": "#%%\n"
    }
   }
  },
  {
   "cell_type": "code",
   "execution_count": null,
   "outputs": [],
   "source": [],
   "metadata": {
    "collapsed": false,
    "pycharm": {
     "name": "#%%\n"
    }
   }
  }
 ],
 "metadata": {
  "kernelspec": {
   "display_name": "Python 3",
   "language": "python",
   "name": "python3"
  },
  "language_info": {
   "codemirror_mode": {
    "name": "ipython",
    "version": 2
   },
   "file_extension": ".py",
   "mimetype": "text/x-python",
   "name": "python",
   "nbconvert_exporter": "python",
   "pygments_lexer": "ipython2",
   "version": "2.7.6"
  }
 },
 "nbformat": 4,
 "nbformat_minor": 0
}