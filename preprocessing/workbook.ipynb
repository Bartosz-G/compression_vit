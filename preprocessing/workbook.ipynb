{
 "cells": [
  {
   "cell_type": "code",
   "execution_count": 76,
   "metadata": {
    "collapsed": true,
    "pycharm": {
     "name": "#%%\n"
    }
   },
   "outputs": [],
   "source": [
    "import torch\n",
    "import numpy as np\n",
    "from torchvision.datasets import CIFAR10\n",
    "from torch.utils.data import DataLoader\n",
    "import torchvision.transforms as transforms\n",
    "import os\n",
    "from scipy.fft import dctn, idctn\n",
    "from typing import Optional, Tuple\n",
    "\n",
    "import matplotlib.pyplot as plt\n",
    "# torch.set_printoptions(threshold=10_000)\n",
    "# np.set_printoptions(threshold=np.inf)"
   ]
  },
  {
   "cell_type": "code",
   "execution_count": 108,
   "outputs": [],
   "source": [
    "class CIFAR10_custom(CIFAR10):\n",
    "    def __init__(self,*args, **kwargs) -> None:\n",
    "        super(CIFAR10_custom, self).__init__(*args, **kwargs)\n",
    "        self.format = 'rgb'\n",
    "\n",
    "\n",
    "    def to_ycbcr(self, in_place = False) -> Optional[Tuple[np.ndarray, list]]:\n",
    "        r\"\"\"Convert entire dataset from RGB to YCbCr.\n",
    "\n",
    "             Args:\n",
    "                in_place (bool, optional): Whether to modify the entire CIFAR10 dataset in memory.\n",
    "                If set to False, returns the (images, targets) as tuples where images are of\n",
    "                shape (B, C, H, W). Defaults to False.\n",
    "        \"\"\"\n",
    "        assert self.format != 'compressed', f'cannot transform format {self.format} into ycbcr, have you ran to_ycbcr after compressed?'\n",
    "\n",
    "        if self.format == 'ycbcr' and not in_place: # prevent applying transformation twice\n",
    "            return self.data.transpose((0, 3, 1, 2)), self.targets\n",
    "\n",
    "        if self.format == 'ycbcr' and in_place: # prevent applying transformation twice\n",
    "            return None\n",
    "\n",
    "        data = self.data.transpose((0, 3, 1, 2))  # convert to CHW\n",
    "\n",
    "\n",
    "        r = data[..., 0, :, :]\n",
    "        g = data[..., 1, :, :]\n",
    "        b = data[..., 2, :, :]\n",
    "\n",
    "        y = 0.299 * r + 0.587 * g + 0.114 * b\n",
    "        cb = -0.168736 * r - 0.331264 * g + 0.5 * b + 128\n",
    "        cr = 0.5 * r - 0.418688 * g - 0.081312 * b + 128\n",
    "\n",
    "\n",
    "        if in_place:\n",
    "            self.format = 'ycbcr'\n",
    "            self.data = np.stack((y, cb, cr), axis=-3).transpose((0, 2, 3, 1)) # convert to HWC\n",
    "        else:\n",
    "            return np.stack((y, cb, cr), axis=-3), self.targets\n",
    "\n",
    "\n",
    "    def compress(self, in_place = False, *args, **kwargs) -> Optional[Tuple[np.ndarray, list]]:\n",
    "        r\"\"\"Compresses the entire dataset from YCbCr format.\n",
    "\n",
    "        Args:\n",
    "            in_place (bool, optional): Whether to modify the entire CIFAR10 dataset in memory.\n",
    "                If set to False, returns the (images, targets) as tuples where images are of\n",
    "                shape (B, C, H, W). Defaults to False.\n",
    "            block_size (tuple[int, int], optional): Size of the window to apply compression.\n",
    "                Defaults to (8, 8).\n",
    "            alpha (int, optional): Alpha parameter to control the magnitude of compression.\n",
    "                Defaults to 1.\n",
    "        \"\"\"\n",
    "\n",
    "\n",
    "        assert self.format != 'rgb', f'format should be ycbcr but is {self.format}, call .to_ycbcr(in_place = True) before compress'\n",
    "\n",
    "        if self.format == 'compressed' and not in_place: # prevent applying transformation twice\n",
    "            return self.data.transpose((0, 3, 1, 2)), self.targets\n",
    "\n",
    "        if self.format == 'compressed' and in_place: # prevent applying transformation twice\n",
    "            return None\n",
    "\n",
    "        data = self.data.transpose((0, 3, 1, 2)) # convert to CHW\n",
    "\n",
    "        data = apply_across_batch(data, compress_quantise_across_channels, *args, **kwargs)\n",
    "\n",
    "        if in_place:\n",
    "            self.format = 'compressed'\n",
    "            self.data = data.transpose((0, 2, 3, 1)) # convert to HWC\n",
    "        else:\n",
    "            return data, self.targets\n"
   ],
   "metadata": {
    "collapsed": false,
    "pycharm": {
     "name": "#%%\n"
    }
   }
  },
  {
   "cell_type": "code",
   "execution_count": 109,
   "outputs": [],
   "source": [
    "def apply_across_batch(array, func, *args, **kwargs):\n",
    "    # Get the shape of the input array\n",
    "    batch_size, channels, H, W = array.shape\n",
    "\n",
    "    # Initialize an output array of the same shape as the input\n",
    "    output = np.zeros_like(array)\n",
    "\n",
    "    # Iterate over the batch and channel dimensions\n",
    "    for i in range(batch_size):\n",
    "        output[i, :, :, :] = func(array[i, :, :, :], *args, **kwargs)\n",
    "\n",
    "    return output"
   ],
   "metadata": {
    "collapsed": false,
    "pycharm": {
     "name": "#%%\n"
    }
   }
  },
  {
   "cell_type": "code",
   "execution_count": 110,
   "outputs": [],
   "source": [
    "def blockwise_dct(image: np.array, block_size: tuple[int, int] = (8, 8)):\n",
    "    height, width = image.shape\n",
    "    block_height, block_width = block_size\n",
    "\n",
    "    dct_blocks = np.zeros_like(image, dtype=np.float32)\n",
    "\n",
    "\n",
    "    for i in range(0, height, block_height):\n",
    "        for j in range(0, width, block_width):\n",
    "            # Extract the block from the image\n",
    "            block = image[i:i+block_height, j:j+block_width]\n",
    "\n",
    "            # Apply the 2D DCT to the block\n",
    "            dct_block = dctn(block, norm='ortho')\n",
    "\n",
    "            # Store the DCT coefficients\n",
    "            dct_blocks[i:i+block_height, j:j+block_width] = dct_block\n",
    "\n",
    "    return dct_blocks"
   ],
   "metadata": {
    "collapsed": false,
    "pycharm": {
     "name": "#%%\n"
    }
   }
  },
  {
   "cell_type": "code",
   "execution_count": 111,
   "outputs": [],
   "source": [
    "def blockwise_quantize(dct: np.ndarray, mode='l', block_size: tuple[int, int] = (8, 8), alpha: int = 1,) -> np.ndarray:\n",
    "    luminance_quantization_matrix = np.array([\n",
    "        [16, 11, 10, 16, 24, 40, 51, 61],\n",
    "        [12, 12, 14, 19, 26, 58, 60, 55],\n",
    "        [14, 13, 16, 24, 40, 57, 69, 56],\n",
    "        [14, 17, 22, 29, 51, 87, 80, 62],\n",
    "        [18, 22, 37, 56, 68, 109, 103, 77],\n",
    "        [24, 35, 55, 64, 81, 104, 113, 92],\n",
    "        [49, 64, 78, 87, 103, 121, 120, 101],\n",
    "        [72, 92, 95, 98, 112, 100, 103, 99]\n",
    "    ])\n",
    "\n",
    "    chrominance_quantization_matrix = np.array([\n",
    "        [17, 18, 24, 47, 99, 99, 99, 99],\n",
    "        [18, 21, 26, 66, 99, 99, 99, 99],\n",
    "        [24, 26, 56, 99, 99, 99, 99, 99],\n",
    "        [47, 66, 99, 99, 99, 99, 99, 99],\n",
    "        [99, 99, 99, 99, 99, 99, 99, 99],\n",
    "        [99, 99, 99, 99, 99, 99, 99, 99],\n",
    "        [99, 99, 99, 99, 99, 99, 99, 99],\n",
    "        [99, 99, 99, 99, 99, 99, 99, 99]\n",
    "    ])\n",
    "\n",
    "    # Choose the appropriate quantization matrix based on the mode\n",
    "    quantization_matrix = luminance_quantization_matrix if mode == 'l' else chrominance_quantization_matrix\n",
    "\n",
    "    # Adjust the quantization matrix by the alpha multiplier\n",
    "    quantization_matrix = quantization_matrix * alpha\n",
    "\n",
    "    # Ensure the dimensions of the DCT input are divisible by the block size\n",
    "    height, width = dct.shape\n",
    "    block_height_num, block_width_num = height // block_size[0], width // block_size[1]\n",
    "\n",
    "    # Tile the quantization matrix to cover the whole DCT matrix\n",
    "    quantization_matrix_tiled = np.tile(quantization_matrix, (block_height_num, block_width_num))\n",
    "\n",
    "    # Perform the quantization\n",
    "    quantized_dct = np.round(dct / quantization_matrix_tiled).astype(np.int8)\n",
    "\n",
    "    return quantized_dct"
   ],
   "metadata": {
    "collapsed": false,
    "pycharm": {
     "name": "#%%\n"
    }
   }
  },
  {
   "cell_type": "code",
   "execution_count": 112,
   "outputs": [],
   "source": [
    "def compress_quantise_across_channels(image: np.ndarray, block_size: tuple[int, int] = (8, 8), alpha: int = 1, *args, **kwargs):\n",
    "    channels, height, width = image.shape\n",
    "\n",
    "    assert channels == 3, f'channels must be 3 YCbCr but got {channels} instead'\n",
    "\n",
    "\n",
    "    y = blockwise_dct(image[0, :, :], block_size, *args, **kwargs)\n",
    "    cb = blockwise_dct(image[1, :, :], block_size, *args, **kwargs)\n",
    "    cr = blockwise_dct(image[2, :, :],block_size, *args, **kwargs)\n",
    "\n",
    "    y = blockwise_quantize(y, 'l', block_size, alpha, *args, **kwargs)\n",
    "    cb = blockwise_quantize(y, 'c', block_size, alpha, *args, **kwargs)\n",
    "    cr = blockwise_quantize(y, 'c', block_size, alpha, *args, **kwargs)\n",
    "\n",
    "\n",
    "    output = np.stack((y, cb, cr), axis=-3)\n",
    "    return output"
   ],
   "metadata": {
    "collapsed": false,
    "pycharm": {
     "name": "#%%\n"
    }
   }
  },
  {
   "cell_type": "code",
   "execution_count": 113,
   "outputs": [
    {
     "data": {
      "text/plain": "(3, 32, 32)"
     },
     "execution_count": 113,
     "metadata": {},
     "output_type": "execute_result"
    }
   ],
   "source": [
    "array = np.random.rand(3, 32, 32)\n",
    "compress_quantise_across_channels(array).shape"
   ],
   "metadata": {
    "collapsed": false,
    "pycharm": {
     "name": "#%%\n"
    }
   }
  },
  {
   "cell_type": "code",
   "execution_count": 114,
   "outputs": [],
   "source": [
    "download_path = os.path.join('..', 'data', 'cifar10')\n",
    "\n",
    "if not os.path.exists(download_path):\n",
    "    os.makedirs(download_path)"
   ],
   "metadata": {
    "collapsed": false,
    "pycharm": {
     "name": "#%%\n"
    }
   }
  },
  {
   "cell_type": "code",
   "execution_count": 115,
   "outputs": [
    {
     "name": "stdout",
     "output_type": "stream",
     "text": [
      "Files already downloaded and verified\n"
     ]
    }
   ],
   "source": [
    "cifar = CIFAR10_custom(download_path, download = True)"
   ],
   "metadata": {
    "collapsed": false,
    "pycharm": {
     "name": "#%%\n"
    }
   }
  },
  {
   "cell_type": "code",
   "execution_count": 116,
   "outputs": [
    {
     "data": {
      "text/plain": "'rgb'"
     },
     "execution_count": 116,
     "metadata": {},
     "output_type": "execute_result"
    }
   ],
   "source": [
    "cifar.format"
   ],
   "metadata": {
    "collapsed": false,
    "pycharm": {
     "name": "#%%\n"
    }
   }
  },
  {
   "cell_type": "code",
   "execution_count": 123,
   "outputs": [],
   "source": [
    "# cifar.to_ycbcr(in_place=True)\n",
    "output = cifar.compress(in_place=False)"
   ],
   "metadata": {
    "collapsed": false,
    "pycharm": {
     "name": "#%%\n"
    }
   }
  },
  {
   "cell_type": "code",
   "execution_count": 124,
   "outputs": [
    {
     "data": {
      "text/plain": "array([[[[ 37.,   2.,   2.],\n         [-13.,  -1.,  -1.],\n         [ -4.,   0.,   0.],\n         ...,\n         [  0.,   0.,   0.],\n         [  0.,   0.,   0.],\n         [  0.,   0.,   0.]],\n\n        [[ -7.,   0.,   0.],\n         [ -7.,   0.,   0.],\n         [  2.,   0.,   0.],\n         ...,\n         [  0.,   0.,   0.],\n         [  0.,   0.,   0.],\n         [  0.,   0.,   0.]],\n\n        [[  3.,   0.,   0.],\n         [  1.,   0.,   0.],\n         [  3.,   0.,   0.],\n         ...,\n         [  0.,   0.,   0.],\n         [  0.,   0.,   0.],\n         [  0.,   0.,   0.]],\n\n        ...,\n\n        [[ -1.,   0.,   0.],\n         [  0.,   0.,   0.],\n         [  0.,   0.,   0.],\n         ...,\n         [  0.,   0.,   0.],\n         [  0.,   0.,   0.],\n         [  0.,   0.,   0.]],\n\n        [[  0.,   0.,   0.],\n         [  0.,   0.,   0.],\n         [  0.,   0.,   0.],\n         ...,\n         [  0.,   0.,   0.],\n         [  0.,   0.,   0.],\n         [  0.,   0.,   0.]],\n\n        [[  0.,   0.,   0.],\n         [  0.,   0.,   0.],\n         [  0.,   0.,   0.],\n         ...,\n         [  0.,   0.,   0.],\n         [  0.,   0.,   0.],\n         [  0.,   0.,   0.]]],\n\n\n       [[[ 71.,   4.,   4.],\n         [ -3.,   0.,   0.],\n         [  5.,   0.,   0.],\n         ...,\n         [  0.,   0.,   0.],\n         [  0.,   0.,   0.],\n         [  0.,   0.,   0.]],\n\n        [[ 13.,   1.,   1.],\n         [-12.,  -1.,  -1.],\n         [  4.,   0.,   0.],\n         ...,\n         [  0.,   0.,   0.],\n         [  0.,   0.,   0.],\n         [  0.,   0.,   0.]],\n\n        [[-11.,   0.,   0.],\n         [  7.,   0.,   0.],\n         [  4.,   0.,   0.],\n         ...,\n         [  0.,   0.,   0.],\n         [  0.,   0.,   0.],\n         [  0.,   0.,   0.]],\n\n        ...,\n\n        [[ -5.,   0.,   0.],\n         [  1.,   0.,   0.],\n         [  1.,   0.,   0.],\n         ...,\n         [  0.,   0.,   0.],\n         [  0.,   0.,   0.],\n         [  0.,   0.,   0.]],\n\n        [[  0.,   0.,   0.],\n         [  0.,   0.,   0.],\n         [  0.,   0.,   0.],\n         ...,\n         [  0.,   0.,   0.],\n         [  0.,   0.,   0.],\n         [  0.,   0.,   0.]],\n\n        [[  0.,   0.,   0.],\n         [  0.,   0.,   0.],\n         [  0.,   0.,   0.],\n         ...,\n         [  0.,   0.,   0.],\n         [  0.,   0.,   0.],\n         [  0.,   0.,   0.]]],\n\n\n       [[[127.,   7.,   7.],\n         [  0.,   0.,   0.],\n         [  0.,   0.,   0.],\n         ...,\n         [  0.,   0.,   0.],\n         [  0.,   0.,   0.],\n         [  0.,   0.,   0.]],\n\n        [[  0.,   0.,   0.],\n         [  0.,   0.,   0.],\n         [  0.,   0.,   0.],\n         ...,\n         [  0.,   0.,   0.],\n         [  0.,   0.,   0.],\n         [  0.,   0.,   0.]],\n\n        [[  0.,   0.,   0.],\n         [  0.,   0.,   0.],\n         [  0.,   0.,   0.],\n         ...,\n         [  0.,   0.,   0.],\n         [  0.,   0.,   0.],\n         [  0.,   0.,   0.]],\n\n        ...,\n\n        [[  0.,   0.,   0.],\n         [  0.,   0.,   0.],\n         [  0.,   0.,   0.],\n         ...,\n         [  0.,   0.,   0.],\n         [  0.,   0.,   0.],\n         [  0.,   0.,   0.]],\n\n        [[  0.,   0.,   0.],\n         [  0.,   0.,   0.],\n         [  0.,   0.,   0.],\n         ...,\n         [  0.,   0.,   0.],\n         [  0.,   0.,   0.],\n         [  0.,   0.,   0.]],\n\n        [[  0.,   0.,   0.],\n         [  0.,   0.,   0.],\n         [  0.,   0.,   0.],\n         ...,\n         [  0.,   0.,   0.],\n         [  0.,   0.,   0.],\n         [  0.,   0.,   0.]]],\n\n\n       [[[ 28.,   2.,   2.],\n         [ -3.,   0.,   0.],\n         [  0.,   0.,   0.],\n         ...,\n         [  0.,   0.,   0.],\n         [  0.,   0.,   0.],\n         [  0.,   0.,   0.]],\n\n        [[-11.,  -1.,  -1.],\n         [  1.,   0.,   0.],\n         [ -1.,   0.,   0.],\n         ...,\n         [  0.,   0.,   0.],\n         [  0.,   0.,   0.],\n         [  0.,   0.,   0.]],\n\n        [[ -3.,   0.,   0.],\n         [  0.,   0.,   0.],\n         [  0.,   0.,   0.],\n         ...,\n         [  0.,   0.,   0.],\n         [  0.,   0.,   0.],\n         [  0.,   0.,   0.]],\n\n        ...,\n\n        [[  0.,   0.,   0.],\n         [  0.,   0.,   0.],\n         [  0.,   0.,   0.],\n         ...,\n         [  0.,   0.,   0.],\n         [  0.,   0.,   0.],\n         [  0.,   0.,   0.]],\n\n        [[  0.,   0.,   0.],\n         [  0.,   0.,   0.],\n         [  0.,   0.,   0.],\n         ...,\n         [  0.,   0.,   0.],\n         [  0.,   0.,   0.],\n         [  0.,   0.,   0.]],\n\n        [[  0.,   0.,   0.],\n         [  0.,   0.,   0.],\n         [  0.,   0.,   0.],\n         ...,\n         [  0.,   0.,   0.],\n         [  0.,   0.,   0.],\n         [  0.,   0.,   0.]]]])"
     },
     "execution_count": 124,
     "metadata": {},
     "output_type": "execute_result"
    }
   ],
   "source": [
    "cifar.data[:4]"
   ],
   "metadata": {
    "collapsed": false,
    "pycharm": {
     "name": "#%%\n"
    }
   }
  },
  {
   "cell_type": "code",
   "execution_count": 125,
   "outputs": [],
   "source": [
    "images, _ = output"
   ],
   "metadata": {
    "collapsed": false,
    "pycharm": {
     "name": "#%%\n"
    }
   }
  },
  {
   "cell_type": "code",
   "execution_count": 126,
   "outputs": [
    {
     "data": {
      "text/plain": "array([[[[ 37., -13.,  -4., ...,   0.,   0.,   0.],\n         [ -7.,  -7.,   2., ...,   0.,   0.,   0.],\n         [  3.,   1.,   3., ...,   0.,   0.,   0.],\n         ...,\n         [ -1.,   0.,   0., ...,   0.,   0.,   0.],\n         [  0.,   0.,   0., ...,   0.,   0.,   0.],\n         [  0.,   0.,   0., ...,   0.,   0.,   0.]],\n\n        [[  2.,  -1.,   0., ...,   0.,   0.,   0.],\n         [  0.,   0.,   0., ...,   0.,   0.,   0.],\n         [  0.,   0.,   0., ...,   0.,   0.,   0.],\n         ...,\n         [  0.,   0.,   0., ...,   0.,   0.,   0.],\n         [  0.,   0.,   0., ...,   0.,   0.,   0.],\n         [  0.,   0.,   0., ...,   0.,   0.,   0.]],\n\n        [[  2.,  -1.,   0., ...,   0.,   0.,   0.],\n         [  0.,   0.,   0., ...,   0.,   0.,   0.],\n         [  0.,   0.,   0., ...,   0.,   0.,   0.],\n         ...,\n         [  0.,   0.,   0., ...,   0.,   0.,   0.],\n         [  0.,   0.,   0., ...,   0.,   0.,   0.],\n         [  0.,   0.,   0., ...,   0.,   0.,   0.]]],\n\n\n       [[[ 71.,  -3.,   5., ...,   0.,   0.,   0.],\n         [ 13., -12.,   4., ...,   0.,   0.,   0.],\n         [-11.,   7.,   4., ...,   0.,   0.,   0.],\n         ...,\n         [ -5.,   1.,   1., ...,   0.,   0.,   0.],\n         [  0.,   0.,   0., ...,   0.,   0.,   0.],\n         [  0.,   0.,   0., ...,   0.,   0.,   0.]],\n\n        [[  4.,   0.,   0., ...,   0.,   0.,   0.],\n         [  1.,  -1.,   0., ...,   0.,   0.,   0.],\n         [  0.,   0.,   0., ...,   0.,   0.,   0.],\n         ...,\n         [  0.,   0.,   0., ...,   0.,   0.,   0.],\n         [  0.,   0.,   0., ...,   0.,   0.,   0.],\n         [  0.,   0.,   0., ...,   0.,   0.,   0.]],\n\n        [[  4.,   0.,   0., ...,   0.,   0.,   0.],\n         [  1.,  -1.,   0., ...,   0.,   0.,   0.],\n         [  0.,   0.,   0., ...,   0.,   0.,   0.],\n         ...,\n         [  0.,   0.,   0., ...,   0.,   0.,   0.],\n         [  0.,   0.,   0., ...,   0.,   0.,   0.],\n         [  0.,   0.,   0., ...,   0.,   0.,   0.]]],\n\n\n       [[[127.,   0.,   0., ...,   0.,   0.,   0.],\n         [  0.,   0.,   0., ...,   0.,   0.,   0.],\n         [  0.,   0.,   0., ...,   0.,   0.,   0.],\n         ...,\n         [  0.,   0.,   0., ...,   0.,   0.,   0.],\n         [  0.,   0.,   0., ...,   0.,   0.,   0.],\n         [  0.,   0.,   0., ...,   0.,   0.,   0.]],\n\n        [[  7.,   0.,   0., ...,   0.,   0.,   0.],\n         [  0.,   0.,   0., ...,   0.,   0.,   0.],\n         [  0.,   0.,   0., ...,   0.,   0.,   0.],\n         ...,\n         [  0.,   0.,   0., ...,   0.,   0.,   0.],\n         [  0.,   0.,   0., ...,   0.,   0.,   0.],\n         [  0.,   0.,   0., ...,   0.,   0.,   0.]],\n\n        [[  7.,   0.,   0., ...,   0.,   0.,   0.],\n         [  0.,   0.,   0., ...,   0.,   0.,   0.],\n         [  0.,   0.,   0., ...,   0.,   0.,   0.],\n         ...,\n         [  0.,   0.,   0., ...,   0.,   0.,   0.],\n         [  0.,   0.,   0., ...,   0.,   0.,   0.],\n         [  0.,   0.,   0., ...,   0.,   0.,   0.]]],\n\n\n       [[[ 28.,  -3.,   0., ...,   0.,   0.,   0.],\n         [-11.,   1.,  -1., ...,   0.,   0.,   0.],\n         [ -3.,   0.,   0., ...,   0.,   0.,   0.],\n         ...,\n         [  0.,   0.,   0., ...,   0.,   0.,   0.],\n         [  0.,   0.,   0., ...,   0.,   0.,   0.],\n         [  0.,   0.,   0., ...,   0.,   0.,   0.]],\n\n        [[  2.,   0.,   0., ...,   0.,   0.,   0.],\n         [ -1.,   0.,   0., ...,   0.,   0.,   0.],\n         [  0.,   0.,   0., ...,   0.,   0.,   0.],\n         ...,\n         [  0.,   0.,   0., ...,   0.,   0.,   0.],\n         [  0.,   0.,   0., ...,   0.,   0.,   0.],\n         [  0.,   0.,   0., ...,   0.,   0.,   0.]],\n\n        [[  2.,   0.,   0., ...,   0.,   0.,   0.],\n         [ -1.,   0.,   0., ...,   0.,   0.,   0.],\n         [  0.,   0.,   0., ...,   0.,   0.,   0.],\n         ...,\n         [  0.,   0.,   0., ...,   0.,   0.,   0.],\n         [  0.,   0.,   0., ...,   0.,   0.,   0.],\n         [  0.,   0.,   0., ...,   0.,   0.,   0.]]]])"
     },
     "execution_count": 126,
     "metadata": {},
     "output_type": "execute_result"
    }
   ],
   "source": [
    "fimage = images[:4]\n",
    "fimage"
   ],
   "metadata": {
    "collapsed": false,
    "pycharm": {
     "name": "#%%\n"
    }
   }
  },
  {
   "cell_type": "code",
   "execution_count": null,
   "outputs": [],
   "source": [],
   "metadata": {
    "collapsed": false,
    "pycharm": {
     "name": "#%%\n"
    }
   }
  }
 ],
 "metadata": {
  "kernelspec": {
   "display_name": "Python 3",
   "language": "python",
   "name": "python3"
  },
  "language_info": {
   "codemirror_mode": {
    "name": "ipython",
    "version": 2
   },
   "file_extension": ".py",
   "mimetype": "text/x-python",
   "name": "python",
   "nbconvert_exporter": "python",
   "pygments_lexer": "ipython2",
   "version": "2.7.6"
  }
 },
 "nbformat": 4,
 "nbformat_minor": 0
}