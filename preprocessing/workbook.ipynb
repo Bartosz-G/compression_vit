{
 "cells": [
  {
   "cell_type": "code",
   "execution_count": 1,
   "metadata": {
    "collapsed": true,
    "pycharm": {
     "name": "#%%\n"
    }
   },
   "outputs": [],
   "source": [
    "import torch\n",
    "import numpy as np\n",
    "import os\n",
    "from torch import nn\n",
    "from dataset import CIFAR10_custom\n",
    "from transforms import CompressedToTensor, ZigZagOrder, ChooseAC, FlattenZigZag\n",
    "from torchvision.transforms import Compose\n",
    "\n",
    "torch.set_printoptions(threshold=10_000)\n",
    "# np.set_printoptions(threshold=np.inf)"
   ]
  },
  {
   "cell_type": "code",
   "execution_count": 2,
   "outputs": [],
   "source": [
    "download_path = os.path.join('..', 'data', 'cifar10')\n",
    "\n",
    "if not os.path.exists(download_path):\n",
    "    os.makedirs(download_path)"
   ],
   "metadata": {
    "collapsed": false,
    "pycharm": {
     "name": "#%%\n"
    }
   }
  },
  {
   "cell_type": "code",
   "execution_count": 3,
   "outputs": [
    {
     "ename": "TypeError",
     "evalue": "ApplyAcrossBatch() takes no arguments",
     "output_type": "error",
     "traceback": [
      "\u001B[0;31m---------------------------------------------------------------------------\u001B[0m",
      "\u001B[0;31mTypeError\u001B[0m                                 Traceback (most recent call last)",
      "Cell \u001B[0;32mIn[3], line 6\u001B[0m\n\u001B[1;32m      1\u001B[0m transform \u001B[38;5;241m=\u001B[39m Compose([CompressedToTensor(),\n\u001B[1;32m      2\u001B[0m                      ZigZagOrder(),\n\u001B[1;32m      3\u001B[0m                      ChooseAC(\u001B[38;5;241m5\u001B[39m),\n\u001B[1;32m      4\u001B[0m                      FlattenZigZag()])\n\u001B[0;32m----> 6\u001B[0m cifar \u001B[38;5;241m=\u001B[39m \u001B[43mCIFAR10_custom\u001B[49m\u001B[43m(\u001B[49m\u001B[43mroot\u001B[49m\u001B[38;5;241;43m=\u001B[39;49m\u001B[43mdownload_path\u001B[49m\u001B[43m,\u001B[49m\u001B[43m \u001B[49m\u001B[43mtrain\u001B[49m\u001B[38;5;241;43m=\u001B[39;49m\u001B[38;5;28;43;01mTrue\u001B[39;49;00m\u001B[43m,\u001B[49m\u001B[43m \u001B[49m\u001B[43mtransform\u001B[49m\u001B[38;5;241;43m=\u001B[39;49m\u001B[43mtransform\u001B[49m\u001B[43m,\u001B[49m\u001B[43m \u001B[49m\u001B[43mtarget_transform\u001B[49m\u001B[38;5;241;43m=\u001B[39;49m\u001B[38;5;28;43;01mNone\u001B[39;49;00m\u001B[43m,\u001B[49m\u001B[43m \u001B[49m\u001B[43mdownload\u001B[49m\u001B[43m \u001B[49m\u001B[38;5;241;43m=\u001B[39;49m\u001B[43m \u001B[49m\u001B[38;5;28;43;01mFalse\u001B[39;49;00m\u001B[43m,\u001B[49m\u001B[43m \u001B[49m\u001B[43mcompression\u001B[49m\u001B[38;5;241;43m=\u001B[39;49m\u001B[38;5;28;43;01mNone\u001B[39;49;00m\u001B[43m)\u001B[49m\n",
      "File \u001B[0;32m~/Desktop/ML/compression_research/preprocessing/dataset.py:154\u001B[0m, in \u001B[0;36mCIFAR10_custom.__init__\u001B[0;34m(self, root, train, transform, target_transform, download, compression)\u001B[0m\n\u001B[1;32m    152\u001B[0m \u001B[38;5;28mself\u001B[39m\u001B[38;5;241m.\u001B[39mformat \u001B[38;5;241m=\u001B[39m \u001B[38;5;124m'\u001B[39m\u001B[38;5;124mrgb\u001B[39m\u001B[38;5;124m'\u001B[39m\n\u001B[1;32m    153\u001B[0m \u001B[38;5;28;01mif\u001B[39;00m compression \u001B[38;5;129;01mis\u001B[39;00m \u001B[38;5;28;01mNone\u001B[39;00m:\n\u001B[0;32m--> 154\u001B[0m     \u001B[38;5;28mself\u001B[39m\u001B[38;5;241m.\u001B[39mapply_compression \u001B[38;5;241m=\u001B[39m \u001B[43mApplyAcrossBatch\u001B[49m\u001B[43m(\u001B[49m\u001B[43mcompress_quantise_across_channels\u001B[49m\u001B[43m)\u001B[49m\n\u001B[1;32m    155\u001B[0m \u001B[38;5;28;01melse\u001B[39;00m:\n\u001B[1;32m    156\u001B[0m     \u001B[38;5;28mself\u001B[39m\u001B[38;5;241m.\u001B[39mapply_compression \u001B[38;5;241m=\u001B[39m ApplyAcrossBatch(compression)\n",
      "\u001B[0;31mTypeError\u001B[0m: ApplyAcrossBatch() takes no arguments"
     ]
    }
   ],
   "source": [
    "transform = Compose([CompressedToTensor(),\n",
    "                     ZigZagOrder(),\n",
    "                     ChooseAC(5),\n",
    "                     FlattenZigZag()])\n",
    "\n",
    "cifar = CIFAR10_custom(root=download_path, train=True, transform=transform, target_transform=None, download = False, compression=None)"
   ],
   "metadata": {
    "collapsed": false,
    "pycharm": {
     "name": "#%%\n"
    }
   }
  },
  {
   "cell_type": "code",
   "execution_count": 12,
   "outputs": [
    {
     "data": {
      "text/plain": "'rgb'"
     },
     "execution_count": 12,
     "metadata": {},
     "output_type": "execute_result"
    }
   ],
   "source": [
    "cifar.format"
   ],
   "metadata": {
    "collapsed": false,
    "pycharm": {
     "name": "#%%\n"
    }
   }
  },
  {
   "cell_type": "code",
   "execution_count": 41,
   "outputs": [],
   "source": [
    "cifar.to_ycbcr(in_place=True)\n",
    "cifar.compress(in_place=True)"
   ],
   "metadata": {
    "collapsed": false,
    "pycharm": {
     "name": "#%%\n"
    }
   }
  },
  {
   "cell_type": "code",
   "execution_count": 14,
   "outputs": [
    {
     "data": {
      "text/plain": "torch.Size([3, 96])"
     },
     "execution_count": 14,
     "metadata": {},
     "output_type": "execute_result"
    }
   ],
   "source": [
    "cifar[0][0].shape"
   ],
   "metadata": {
    "collapsed": false,
    "pycharm": {
     "name": "#%%\n"
    }
   }
  },
  {
   "cell_type": "code",
   "execution_count": 15,
   "outputs": [
    {
     "data": {
      "text/plain": "tensor([[ 37., -13.,  -7.,   3.,  -7.,  -4.,  42.,   4.,   7.,   0.,  -5.,   1.,\n          44.,  -2.,   8.,   0.,  -2.,   4.,  45.,   8.,   9.,   6.,  -5.,  -2.,\n          50.,  12.,   3.,  -2.,  -5.,  -1.,  55., -11., -23.,  -2.,  16.,   5.,\n          72.,   8., -36.,   3.,   2.,  -1.,  51.,   3.,  -5.,   2.,  -7.,   2.,\n          54.,  -6.,  -3.,  -5.,   5.,   8.,  80.,   7.,  11.,   1.,  -4.,   2.,\n          73.,  -6.,  23.,   3.,  -2.,   7.,  58.,   5.,   2.,   4.,  12.,  13.,\n          65.,   4., -12.,   2.,   1.,   5.,  59.,   1.,   6.,  10.,  -3.,  -1.,\n          51.,   4.,  -2.,  -1.,  -1.,  -2.,  53.,  -3.,   8.,   1.,  -3.,  -5.],\n        [  2.,  -1.,   0.,   0.,   0.,   0.,   2.,   0.,   0.,   0.,   0.,   0.,\n           3.,   0.,   0.,   0.,   0.,   0.,   3.,   0.,   0.,   0.,   0.,   0.,\n           3.,   1.,   0.,   0.,   0.,   0.,   3.,  -1.,  -1.,   0.,   1.,   0.,\n           4.,   0.,  -2.,   0.,   0.,   0.,   3.,   0.,   0.,   0.,   0.,   0.,\n           3.,   0.,   0.,   0.,   0.,   0.,   5.,   0.,   1.,   0.,   0.,   0.,\n           4.,   0.,   1.,   0.,   0.,   0.,   3.,   0.,   0.,   0.,   1.,   1.,\n           4.,   0.,  -1.,   0.,   0.,   0.,   3.,   0.,   0.,   0.,   0.,   0.,\n           3.,   0.,   0.,   0.,   0.,   0.,   3.,   0.,   0.,   0.,   0.,   0.],\n        [  2.,  -1.,   0.,   0.,   0.,   0.,   2.,   0.,   0.,   0.,   0.,   0.,\n           3.,   0.,   0.,   0.,   0.,   0.,   3.,   0.,   0.,   0.,   0.,   0.,\n           3.,   1.,   0.,   0.,   0.,   0.,   3.,  -1.,  -1.,   0.,   1.,   0.,\n           4.,   0.,  -2.,   0.,   0.,   0.,   3.,   0.,   0.,   0.,   0.,   0.,\n           3.,   0.,   0.,   0.,   0.,   0.,   5.,   0.,   1.,   0.,   0.,   0.,\n           4.,   0.,   1.,   0.,   0.,   0.,   3.,   0.,   0.,   0.,   1.,   1.,\n           4.,   0.,  -1.,   0.,   0.,   0.,   3.,   0.,   0.,   0.,   0.,   0.,\n           3.,   0.,   0.,   0.,   0.,   0.,   3.,   0.,   0.,   0.,   0.,   0.]],\n       dtype=torch.float64)"
     },
     "execution_count": 15,
     "metadata": {},
     "output_type": "execute_result"
    }
   ],
   "source": [
    "cifar[0][0]"
   ],
   "metadata": {
    "collapsed": false,
    "pycharm": {
     "name": "#%%\n"
    }
   }
  }
 ],
 "metadata": {
  "kernelspec": {
   "display_name": "Python 3",
   "language": "python",
   "name": "python3"
  },
  "language_info": {
   "codemirror_mode": {
    "name": "ipython",
    "version": 2
   },
   "file_extension": ".py",
   "mimetype": "text/x-python",
   "name": "python",
   "nbconvert_exporter": "python",
   "pygments_lexer": "ipython2",
   "version": "2.7.6"
  }
 },
 "nbformat": 4,
 "nbformat_minor": 0
}