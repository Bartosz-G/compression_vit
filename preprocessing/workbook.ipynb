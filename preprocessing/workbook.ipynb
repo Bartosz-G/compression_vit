{
 "cells": [
  {
   "cell_type": "code",
   "execution_count": 9,
   "metadata": {
    "collapsed": true,
    "pycharm": {
     "name": "#%%\n"
    }
   },
   "outputs": [],
   "source": [
    "import torch\n",
    "import numpy as np\n",
    "import os\n",
    "from torch import nn\n",
    "from dataset import CIFAR10_custom\n",
    "from transforms import CompressedToTensor, ZigZagOrder, ChooseAC, FlattenZigZag\n",
    "from torchvision.transforms import Compose\n",
    "\n",
    "torch.set_printoptions(threshold=10_000)\n",
    "# np.set_printoptions(threshold=np.inf)"
   ]
  },
  {
   "cell_type": "code",
   "execution_count": 10,
   "outputs": [],
   "source": [
    "download_path = os.path.join('..', 'data', 'cifar10')\n",
    "\n",
    "if not os.path.exists(download_path):\n",
    "    os.makedirs(download_path)"
   ],
   "metadata": {
    "collapsed": false,
    "pycharm": {
     "name": "#%%\n"
    }
   }
  },
  {
   "cell_type": "code",
   "execution_count": 11,
   "outputs": [
    {
     "name": "stdout",
     "output_type": "stream",
     "text": [
      "Files already downloaded and verified\n"
     ]
    }
   ],
   "source": [
    "transform = Compose([CompressedToTensor(),\n",
    "                     ZigZagOrder(),\n",
    "                     ChooseAC(5),\n",
    "                     FlattenZigZag()])\n",
    "\n",
    "cifar = CIFAR10_custom(download_path, transform = transform,  download = True)"
   ],
   "metadata": {
    "collapsed": false,
    "pycharm": {
     "name": "#%%\n"
    }
   }
  },
  {
   "cell_type": "code",
   "execution_count": 12,
   "outputs": [
    {
     "data": {
      "text/plain": "'rgb'"
     },
     "execution_count": 12,
     "metadata": {},
     "output_type": "execute_result"
    }
   ],
   "source": [
    "cifar.format"
   ],
   "metadata": {
    "collapsed": false,
    "pycharm": {
     "name": "#%%\n"
    }
   }
  },
  {
   "cell_type": "code",
   "execution_count": 13,
   "outputs": [],
   "source": [
    "cifar.to_ycbcr(in_place=True)\n",
    "cifar.compress(in_place=True)"
   ],
   "metadata": {
    "collapsed": false,
    "pycharm": {
     "name": "#%%\n"
    }
   }
  },
  {
   "cell_type": "code",
   "execution_count": 14,
   "outputs": [
    {
     "data": {
      "text/plain": "torch.Size([3, 96])"
     },
     "execution_count": 14,
     "metadata": {},
     "output_type": "execute_result"
    }
   ],
   "source": [
    "cifar[0][0].shape"
   ],
   "metadata": {
    "collapsed": false,
    "pycharm": {
     "name": "#%%\n"
    }
   }
  },
  {
   "cell_type": "code",
   "execution_count": 15,
   "outputs": [
    {
     "data": {
      "text/plain": "tensor([[ 37., -13.,  -7.,   3.,  -7.,  -4.,  42.,   4.,   7.,   0.,  -5.,   1.,\n          44.,  -2.,   8.,   0.,  -2.,   4.,  45.,   8.,   9.,   6.,  -5.,  -2.,\n          50.,  12.,   3.,  -2.,  -5.,  -1.,  55., -11., -23.,  -2.,  16.,   5.,\n          72.,   8., -36.,   3.,   2.,  -1.,  51.,   3.,  -5.,   2.,  -7.,   2.,\n          54.,  -6.,  -3.,  -5.,   5.,   8.,  80.,   7.,  11.,   1.,  -4.,   2.,\n          73.,  -6.,  23.,   3.,  -2.,   7.,  58.,   5.,   2.,   4.,  12.,  13.,\n          65.,   4., -12.,   2.,   1.,   5.,  59.,   1.,   6.,  10.,  -3.,  -1.,\n          51.,   4.,  -2.,  -1.,  -1.,  -2.,  53.,  -3.,   8.,   1.,  -3.,  -5.],\n        [  2.,  -1.,   0.,   0.,   0.,   0.,   2.,   0.,   0.,   0.,   0.,   0.,\n           3.,   0.,   0.,   0.,   0.,   0.,   3.,   0.,   0.,   0.,   0.,   0.,\n           3.,   1.,   0.,   0.,   0.,   0.,   3.,  -1.,  -1.,   0.,   1.,   0.,\n           4.,   0.,  -2.,   0.,   0.,   0.,   3.,   0.,   0.,   0.,   0.,   0.,\n           3.,   0.,   0.,   0.,   0.,   0.,   5.,   0.,   1.,   0.,   0.,   0.,\n           4.,   0.,   1.,   0.,   0.,   0.,   3.,   0.,   0.,   0.,   1.,   1.,\n           4.,   0.,  -1.,   0.,   0.,   0.,   3.,   0.,   0.,   0.,   0.,   0.,\n           3.,   0.,   0.,   0.,   0.,   0.,   3.,   0.,   0.,   0.,   0.,   0.],\n        [  2.,  -1.,   0.,   0.,   0.,   0.,   2.,   0.,   0.,   0.,   0.,   0.,\n           3.,   0.,   0.,   0.,   0.,   0.,   3.,   0.,   0.,   0.,   0.,   0.,\n           3.,   1.,   0.,   0.,   0.,   0.,   3.,  -1.,  -1.,   0.,   1.,   0.,\n           4.,   0.,  -2.,   0.,   0.,   0.,   3.,   0.,   0.,   0.,   0.,   0.,\n           3.,   0.,   0.,   0.,   0.,   0.,   5.,   0.,   1.,   0.,   0.,   0.,\n           4.,   0.,   1.,   0.,   0.,   0.,   3.,   0.,   0.,   0.,   1.,   1.,\n           4.,   0.,  -1.,   0.,   0.,   0.,   3.,   0.,   0.,   0.,   0.,   0.,\n           3.,   0.,   0.,   0.,   0.,   0.,   3.,   0.,   0.,   0.,   0.,   0.]],\n       dtype=torch.float64)"
     },
     "execution_count": 15,
     "metadata": {},
     "output_type": "execute_result"
    }
   ],
   "source": [
    "cifar[0][0]"
   ],
   "metadata": {
    "collapsed": false,
    "pycharm": {
     "name": "#%%\n"
    }
   }
  },
  {
   "cell_type": "code",
   "execution_count": null,
   "outputs": [],
   "source": [],
   "metadata": {
    "collapsed": false,
    "pycharm": {
     "name": "#%%\n"
    }
   }
  }
 ],
 "metadata": {
  "kernelspec": {
   "display_name": "Python 3",
   "language": "python",
   "name": "python3"
  },
  "language_info": {
   "codemirror_mode": {
    "name": "ipython",
    "version": 2
   },
   "file_extension": ".py",
   "mimetype": "text/x-python",
   "name": "python",
   "nbconvert_exporter": "python",
   "pygments_lexer": "ipython2",
   "version": "2.7.6"
  }
 },
 "nbformat": 4,
 "nbformat_minor": 0
}