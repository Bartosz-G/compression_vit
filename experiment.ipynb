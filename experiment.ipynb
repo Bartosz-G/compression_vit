{
 "cells": [
  {
   "cell_type": "code",
   "execution_count": 1,
   "metadata": {
    "collapsed": true,
    "pycharm": {
     "name": "#%%\n"
    }
   },
   "outputs": [],
   "source": [
    "import torch\n",
    "import numpy as np\n",
    "import os\n",
    "from torch import nn\n",
    "from torch.utils.data import DataLoader\n",
    "from torchvision.transforms import Compose\n",
    "\n",
    "from preprocessing.dataset import CIFAR10_custom\n",
    "from preprocessing.transforms import CompressedToTensor, ZigZagOrder, ChooseAC, FlattenZigZag\n",
    "from model.init import init_truncated_normal\n",
    "from model.vit import CompressedVisionTransformer"
   ]
  },
  {
   "cell_type": "code",
   "execution_count": 2,
   "outputs": [],
   "source": [
    "download_path = os.path.join('data', 'cifar10')"
   ],
   "metadata": {
    "collapsed": false,
    "pycharm": {
     "name": "#%%\n"
    }
   }
  },
  {
   "cell_type": "code",
   "execution_count": 3,
   "outputs": [],
   "source": [
    "transform = Compose([CompressedToTensor(),\n",
    "                     ZigZagOrder(),\n",
    "                     ChooseAC(5)])\n",
    "\n",
    "\n",
    "cifar_compressed = CIFAR10_custom(root=download_path, train=True, transform=transform, target_transform=None, download = False, compression=None)\n",
    "\n",
    "cifar_compressed_test = CIFAR10_custom(root=download_path, train=False, transform=transform, target_transform=None, download = False, compression=None)"
   ],
   "metadata": {
    "collapsed": false,
    "pycharm": {
     "name": "#%%\n"
    }
   }
  },
  {
   "cell_type": "code",
   "execution_count": 4,
   "outputs": [],
   "source": [
    "cifar_compressed.to_ycbcr(in_place=True)\n",
    "cifar_compressed.compress(in_place=True)"
   ],
   "metadata": {
    "collapsed": false,
    "pycharm": {
     "name": "#%%\n"
    }
   }
  },
  {
   "cell_type": "code",
   "execution_count": 5,
   "outputs": [],
   "source": [
    "batch_size = 16\n",
    "train_loader = DataLoader(cifar_compressed, batch_size=batch_size, shuffle=True)"
   ],
   "metadata": {
    "collapsed": false,
    "pycharm": {
     "name": "#%%\n"
    }
   }
  },
  {
   "cell_type": "markdown",
   "source": [
    "# Models"
   ],
   "metadata": {
    "collapsed": false,
    "pycharm": {
     "name": "#%% md\n"
    }
   }
  },
  {
   "cell_type": "code",
   "execution_count": 16,
   "outputs": [],
   "source": [
    "cvit = CompressedVisionTransformer(ac=5,\n",
    "                        channels=3,\n",
    "                        patch_num=16,\n",
    "                        num_classes=10,\n",
    "                        d_model=248,\n",
    "                        nhead=8,\n",
    "                        dim_feedforward=1024,\n",
    "                        dropout=0.1,\n",
    "                        activation=nn.GELU(),\n",
    "                        ntransformers=4,\n",
    "                        layer_norm_eps=1e-5,\n",
    "                        norm_first=False,\n",
    "                        bias=True,\n",
    "                        learnable_positional=True)\n",
    "\n",
    "cvit.init_weights(init_truncated_normal)\n",
    "cvit.pre_training()"
   ],
   "metadata": {
    "collapsed": false,
    "pycharm": {
     "name": "#%%\n"
    }
   }
  }
 ],
 "metadata": {
  "kernelspec": {
   "display_name": "Python 3",
   "language": "python",
   "name": "python3"
  },
  "language_info": {
   "codemirror_mode": {
    "name": "ipython",
    "version": 2
   },
   "file_extension": ".py",
   "mimetype": "text/x-python",
   "name": "python",
   "nbconvert_exporter": "python",
   "pygments_lexer": "ipython2",
   "version": "2.7.6"
  }
 },
 "nbformat": 4,
 "nbformat_minor": 0
}