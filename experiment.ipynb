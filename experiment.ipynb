{
 "cells": [
  {
   "cell_type": "code",
   "execution_count": 8,
   "metadata": {
    "collapsed": true,
    "pycharm": {
     "name": "#%%\n"
    }
   },
   "outputs": [],
   "source": [
    "import torch\n",
    "import numpy as np\n",
    "import os\n",
    "from torch import nn\n",
    "import torch.optim as optim\n",
    "from torch.utils.data import DataLoader, random_split\n",
    "from torchvision.datasets import CIFAR10\n",
    "from torchvision.transforms import Compose, ToTensor, Normalize\n",
    "from torchvision.models import resnet18\n",
    "\n",
    "from preprocessing.dataset import CIFAR10_custom\n",
    "from preprocessing.transforms import CompressedToTensor, ZigZagOrder, ChooseAC, FlattenZigZag\n",
    "from model.init import init_truncated_normal, init_kaiming_normal, set_seed\n",
    "from model.vit import CompressedVisionTransformer\n",
    "from model.resnet import ResNet18"
   ]
  },
  {
   "cell_type": "code",
   "execution_count": 9,
   "outputs": [],
   "source": [
    "DOWNLAOD_PATH = os.path.join('data', 'cifar10')\n",
    "SEED = 42\n",
    "VALIDATION_SET = 0.1\n",
    "BATCH_SIZE = 128"
   ],
   "metadata": {
    "collapsed": false,
    "pycharm": {
     "name": "#%%\n"
    }
   }
  },
  {
   "cell_type": "markdown",
   "source": [
    "# Loading in the data"
   ],
   "metadata": {
    "collapsed": false,
    "pycharm": {
     "name": "#%% md\n"
    }
   }
  },
  {
   "cell_type": "code",
   "execution_count": 10,
   "outputs": [],
   "source": [
    "transform_train = Compose([ToTensor(),\n",
    "                           Normalize((0.5,), (0.5,))])\n",
    "\n",
    "transform_test = Compose([ToTensor(),\n",
    "                          Normalize((0.5,), (0.5,))])\n",
    "\n",
    "transform_compressed_train = Compose([CompressedToTensor(),\n",
    "                     ZigZagOrder(),\n",
    "                     ChooseAC(5)])\n",
    "\n",
    "transform_compressed_test = Compose([CompressedToTensor(),\n",
    "                                      ZigZagOrder(),\n",
    "                                      ChooseAC(5)])\n",
    "\n",
    "cifar = CIFAR10(root=DOWNLAOD_PATH, train=True, transform=transform_train, target_transform=None, download = False)\n",
    "cifar_test = CIFAR10(root=DOWNLAOD_PATH, train=False, transform=transform_test, target_transform=None, download = False)\n",
    "\n",
    "\n",
    "cifar_compressed = CIFAR10_custom(root=DOWNLAOD_PATH, train=True, transform=transform_compressed_train, target_transform=None, download = False, compression=None)\n",
    "cifar_compressed_test = CIFAR10_custom(root=DOWNLAOD_PATH, train=False, transform=transform_compressed_test, target_transform=None, download = False, compression=None)"
   ],
   "metadata": {
    "collapsed": false,
    "pycharm": {
     "name": "#%%\n"
    }
   }
  },
  {
   "cell_type": "code",
   "execution_count": 11,
   "outputs": [],
   "source": [
    "cifar_compressed.to_ycbcr(in_place=True)\n",
    "cifar_compressed.compress(in_place=True)\n",
    "\n",
    "cifar_compressed_test.to_ycbcr(in_place=True)\n",
    "cifar_compressed_test.compress(in_place=True)"
   ],
   "metadata": {
    "collapsed": false,
    "pycharm": {
     "name": "#%%\n"
    }
   }
  },
  {
   "cell_type": "code",
   "execution_count": 12,
   "outputs": [],
   "source": [
    "with set_seed(SEED):\n",
    "    num_train = len(cifar)\n",
    "    num_val = int(0.1 * num_train)\n",
    "    num_train -= num_val\n",
    "\n",
    "    cifar_train, cifar_val = random_split(cifar, [num_train, num_val])\n",
    "    cifar_compressed_train, cifar_compressed_val = random_split(cifar_compressed, [num_train, num_val])"
   ],
   "metadata": {
    "collapsed": false,
    "pycharm": {
     "name": "#%%\n"
    }
   }
  },
  {
   "cell_type": "markdown",
   "source": [
    "# Models"
   ],
   "metadata": {
    "collapsed": false,
    "pycharm": {
     "name": "#%% md\n"
    }
   }
  },
  {
   "cell_type": "code",
   "execution_count": 13,
   "outputs": [],
   "source": [
    "cvit = CompressedVisionTransformer(ac=5,\n",
    "                        channels=3,\n",
    "                        patch_num=16,\n",
    "                        num_classes=10,\n",
    "                        d_model=248,\n",
    "                        nhead=8,\n",
    "                        dim_feedforward=1024,\n",
    "                        dropout=0.1,\n",
    "                        activation=nn.GELU(),\n",
    "                        ntransformers=4,\n",
    "                        layer_norm_eps=1e-5,\n",
    "                        norm_first=False,\n",
    "                        bias=True,\n",
    "                        learnable_positional=True)\n",
    "\n",
    "with set_seed(SEED):\n",
    "    cvit.init_weights(init_truncated_normal)\n",
    "cvit.pre_training()"
   ],
   "metadata": {
    "collapsed": false,
    "pycharm": {
     "name": "#%%\n"
    }
   }
  },
  {
   "cell_type": "code",
   "execution_count": 14,
   "outputs": [],
   "source": [
    "resnet18 = ResNet18(channels=3, num_classes=10)\n",
    "\n",
    "with set_seed(SEED):\n",
    "    resnet18.init_weights(init_kaiming_normal)\n",
    "    resnet18.init_weights(init_truncated_normal)"
   ],
   "metadata": {
    "collapsed": false,
    "pycharm": {
     "name": "#%%\n"
    }
   }
  },
  {
   "cell_type": "markdown",
   "source": [
    "# CVIT Parameters"
   ],
   "metadata": {
    "collapsed": false,
    "pycharm": {
     "name": "#%% md\n"
    }
   }
  },
  {
   "cell_type": "code",
   "execution_count": 41,
   "outputs": [],
   "source": [
    "criterion = nn.CrossEntropyLoss()\n",
    "lr = 1e-3\n",
    "num_epochs = 30\n",
    "batch_size = 128\n",
    "weight_decay = 0\n",
    "checkpoint_every_th_epoch = None\n",
    "cvit_optimizer = optim.Adam(cvit.parameters(), lr=lr, weight_decay=weight_decay)\n",
    "\n",
    "train_compressed = DataLoader(cifar_compressed_train, batch_size=batch_size, shuffle=True)\n",
    "val_compressed = DataLoader(cifar_compressed_val, batch_size=batch_size, shuffle=True)\n",
    "test_compressed = DataLoader(cifar_compressed_test, batch_size=len(cifar_compressed_test), shuffle=False)"
   ],
   "metadata": {
    "collapsed": false,
    "pycharm": {
     "name": "#%%\n"
    }
   }
  },
  {
   "cell_type": "code",
   "execution_count": 42,
   "outputs": [
    {
     "name": "stdout",
     "output_type": "stream",
     "text": [
      "Epoch 1/30, Train Loss: 1.9610, Val Loss: 1.8702, Val Accuracy: 0.2674\n",
      "Epoch 2/30, Train Loss: 1.8527, Val Loss: 1.8531, Val Accuracy: 0.2956\n",
      "Epoch 3/30, Train Loss: 1.8244, Val Loss: 1.7551, Val Accuracy: 0.3360\n",
      "Epoch 4/30, Train Loss: 1.7391, Val Loss: 1.7589, Val Accuracy: 0.3336\n",
      "Epoch 5/30, Train Loss: 1.7142, Val Loss: 1.6513, Val Accuracy: 0.3716\n",
      "Epoch 6/30, Train Loss: 1.6465, Val Loss: 1.5815, Val Accuracy: 0.4112\n",
      "Epoch 7/30, Train Loss: 1.6089, Val Loss: 1.5609, Val Accuracy: 0.4216\n",
      "Epoch 8/30, Train Loss: 1.5754, Val Loss: 1.6861, Val Accuracy: 0.3966\n",
      "Epoch 9/30, Train Loss: 1.5368, Val Loss: 1.5507, Val Accuracy: 0.4420\n",
      "Epoch 10/30, Train Loss: 1.5190, Val Loss: 1.5327, Val Accuracy: 0.4514\n",
      "Epoch 11/30, Train Loss: 1.5027, Val Loss: 1.5107, Val Accuracy: 0.4422\n",
      "Epoch 12/30, Train Loss: 1.4781, Val Loss: 1.4715, Val Accuracy: 0.4626\n",
      "Epoch 13/30, Train Loss: 1.4479, Val Loss: 1.4806, Val Accuracy: 0.4636\n",
      "Epoch 14/30, Train Loss: 1.4356, Val Loss: 1.4578, Val Accuracy: 0.4780\n",
      "Epoch 15/30, Train Loss: 1.4059, Val Loss: 1.3931, Val Accuracy: 0.4992\n",
      "Epoch 16/30, Train Loss: 1.4046, Val Loss: 1.4336, Val Accuracy: 0.4850\n",
      "Epoch 17/30, Train Loss: 1.3846, Val Loss: 1.3865, Val Accuracy: 0.5088\n",
      "Epoch 18/30, Train Loss: 1.3618, Val Loss: 1.3594, Val Accuracy: 0.5242\n",
      "Epoch 19/30, Train Loss: 1.3533, Val Loss: 1.3920, Val Accuracy: 0.4988\n",
      "Epoch 20/30, Train Loss: 1.3340, Val Loss: 1.4011, Val Accuracy: 0.5128\n",
      "Epoch 21/30, Train Loss: 1.3091, Val Loss: 1.3597, Val Accuracy: 0.5224\n",
      "Epoch 22/30, Train Loss: 1.2925, Val Loss: 1.3756, Val Accuracy: 0.5126\n",
      "Epoch 23/30, Train Loss: 1.2766, Val Loss: 1.3110, Val Accuracy: 0.5320\n",
      "Epoch 24/30, Train Loss: 1.2711, Val Loss: 1.3211, Val Accuracy: 0.5310\n",
      "Epoch 25/30, Train Loss: 1.2582, Val Loss: 1.3245, Val Accuracy: 0.5364\n",
      "Epoch 26/30, Train Loss: 1.2348, Val Loss: 1.3107, Val Accuracy: 0.5438\n",
      "Epoch 27/30, Train Loss: 1.2241, Val Loss: 1.2829, Val Accuracy: 0.5492\n",
      "Epoch 28/30, Train Loss: 1.2008, Val Loss: 1.2939, Val Accuracy: 0.5614\n",
      "Epoch 29/30, Train Loss: 1.1842, Val Loss: 1.2999, Val Accuracy: 0.5382\n",
      "Epoch 30/30, Train Loss: 1.1816, Val Loss: 1.2900, Val Accuracy: 0.5488\n"
     ]
    }
   ],
   "source": [
    "for epoch in range(num_epochs):\n",
    "    # Training Phase\n",
    "    cvit.train()\n",
    "    train_loss = 0.0\n",
    "    for images, labels in train_compressed:\n",
    "        images, labels = images.to(torch.float32), labels\n",
    "\n",
    "        cvit_optimizer.zero_grad()\n",
    "\n",
    "        outputs = cvit(images)\n",
    "        loss = criterion(outputs, labels)\n",
    "        loss.backward()\n",
    "        cvit_optimizer.step()\n",
    "\n",
    "        train_loss += loss.item() * images.size(0)\n",
    "\n",
    "    train_loss /= len(cifar_compressed_train)\n",
    "\n",
    "    # Validation Phase\n",
    "    cvit.eval()\n",
    "    val_loss = 0.0\n",
    "    correct = 0\n",
    "    total = 0\n",
    "    with torch.no_grad():\n",
    "        for images, labels in val_compressed:\n",
    "            images, labels = images.to(torch.float32), labels\n",
    "\n",
    "            outputs = cvit(images)\n",
    "            loss = criterion(outputs, labels)\n",
    "\n",
    "            val_loss += loss.item() * images.size(0)\n",
    "            _, predicted = torch.max(outputs.data, 1)\n",
    "            total += labels.size(0)\n",
    "            correct += (predicted == labels).sum().item()\n",
    "\n",
    "    val_loss /= len(cifar_compressed_val)\n",
    "    val_accuracy = correct / total\n",
    "\n",
    "    print(f'Epoch {epoch+1}/{num_epochs}, Train Loss: {train_loss:.4f}, Val Loss: {val_loss:.4f}, Val Accuracy: {val_accuracy:.4f}')"
   ],
   "metadata": {
    "collapsed": false,
    "pycharm": {
     "name": "#%%\n"
    }
   }
  },
  {
   "cell_type": "code",
   "execution_count": null,
   "outputs": [],
   "source": [],
   "metadata": {
    "collapsed": false,
    "pycharm": {
     "name": "#%%\n"
    }
   }
  }
 ],
 "metadata": {
  "kernelspec": {
   "display_name": "Python 3",
   "language": "python",
   "name": "python3"
  },
  "language_info": {
   "codemirror_mode": {
    "name": "ipython",
    "version": 2
   },
   "file_extension": ".py",
   "mimetype": "text/x-python",
   "name": "python",
   "nbconvert_exporter": "python",
   "pygments_lexer": "ipython2",
   "version": "2.7.6"
  }
 },
 "nbformat": 4,
 "nbformat_minor": 0
}